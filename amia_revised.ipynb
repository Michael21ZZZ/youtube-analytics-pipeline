{
 "cells": [
  {
   "attachments": {},
   "cell_type": "markdown",
   "metadata": {},
   "source": [
    "# Revised AMIA project, based on colononscopy data"
   ]
  },
  {
   "cell_type": "code",
   "execution_count": 9,
   "metadata": {},
   "outputs": [
    {
     "name": "stdout",
     "output_type": "stream",
     "text": [
      "285\n",
      "285\n"
     ]
    }
   ],
   "source": [
    "import pandas as pd\n",
    "import os\n",
    "import json\n",
    "import pprint\n",
    "from google.cloud import storage\n",
    "from dotenv import load_dotenv \n",
    "import redis\n",
    "\n",
    "# from feature.feature_concat import *\n",
    "from feature.video import *\n",
    "from feature.audio import *\n",
    "from feature.metadata import *\n",
    "from feature.setup import *\n",
    "from feature.nlp import *\n",
    "\n",
    "# Load environment variables from the .env file\n",
    "load_dotenv(\"ytbvideoanalytics2022.env\", override=True)\n",
    "os.environ[\"GOOGLE_APPLICATION_CREDENTIALS\"] = os.path.join(os.getcwd(), os.environ.get(\"SERVICE_ACCOUNT_PATH\"))\n",
    "\n",
    "# load the covid dataset\n",
    "colon = pd.read_csv(\"input/Yawen-Colonoscopy-Covid Data files/colonoscopy/complete_colonoscopy_classification_set.csv\")\n",
    "colon_list = colon['id'].values.tolist()\n",
    "print(len(colon_list))\n",
    "print(len(set(colon_list)))"
   ]
  },
  {
   "cell_type": "code",
   "execution_count": 10,
   "metadata": {},
   "outputs": [],
   "source": [
    "# Connect to the Redis server\n",
    "redis_client = redis.Redis(host='localhost', port=6379, db=0)"
   ]
  },
  {
   "cell_type": "code",
   "execution_count": 11,
   "metadata": {},
   "outputs": [],
   "source": [
    "# Define a function to check whether setup process has completed successfully for a specific video\n",
    "def check_setup_status(video_id):\n",
    "    # Check if the video setup status is already cached in Redis\n",
    "    if redis_client.hexists(video_id, 'setup_status'):\n",
    "        return redis_client.hget(video_id, 'setup_status').decode('utf-8') == 'success'\n",
    "    else:\n",
    "        # Perform the setup process and cache the setup status in Redis\n",
    "        try:\n",
    "            download(video_id)\n",
    "            redis_client.hset(video_id, 'setup_status', 'success')\n",
    "            return True\n",
    "        except DownloadError as e:\n",
    "            redis_client.hset(video_id, 'setup_status', 'error')\n",
    "            return False"
   ]
  },
  {
   "cell_type": "code",
   "execution_count": 14,
   "metadata": {},
   "outputs": [],
   "source": [
    "# Define a function to extract features for a single video and store it to redis\n",
    "def extract_features(video_id):\n",
    "    try: \n",
    "        youtube = youtube_authenticate(os.environ.get(\"OAUTH_CREDENTIAL_PATH\"))\n",
    "        \n",
    "    except AuthenticateError:\n",
    "        print('Authenticate Error!')\n",
    "        return\n",
    "    \n",
    "    # Check whether the setup process has completed successfully for this video\n",
    "    if not check_setup_status(video_id):\n",
    "        print(f'Error: setup process failed for video {video_id}')\n",
    "        return\n",
    "    \n",
    "    # collect metadata\n",
    "    if redis_client.hget(video_id, 'metadata_status') == b'success':\n",
    "        description = redis_client.hget(video_id, 'description').decode('utf8')\n",
    "    else:\n",
    "        try: \n",
    "            metadata = metadata_features(youtube = youtube, video_id = video_id)\n",
    "            description = metadata['description']\n",
    "            redis_client.hset(video_id, 'metadata_status', 'success')\n",
    "            for k, v in metadata.items():\n",
    "                redis_client.hset(video_id, k, v)\n",
    "        except MetadataError as e:\n",
    "            redis_client.hset(video_id, 'metadata_status', 'fail')\n",
    "            print(e.message)\n",
    "        \n",
    "    # collect video features\n",
    "    if redis_client.hget(video_id, 'video_status') == b'success':\n",
    "       pass\n",
    "    else:\n",
    "        try: \n",
    "            gcs_video_path = os.path.join(\"gs://\", os.environ.get(\"VIDEO_BUCKET_NAME\"), video_id +\".mp4\")\n",
    "            video = analyze_by_path(gcs_video_path)\n",
    "            redis_client.hset(video_id, 'video_status', 'success')\n",
    "            for k, v in video.items():\n",
    "                redis_client.hset(video_id, k, v)\n",
    "        except:\n",
    "            redis_client.hset(video_id, 'video_status', 'fail')\n",
    "            print('video fails')\n",
    "    \n",
    "    # collect audio features\n",
    "    if redis_client.hget(video_id, 'audio_status') == b'success':\n",
    "        transcription = redis_client.hget(video_id, 'transcription').decode('utf8')\n",
    "    else:\n",
    "        try:\n",
    "            gcs_audio_path = os.path.join(\"gs://\", os.environ.get(\"AUDIO_BUCKET_NAME\"), video_id +\".wav\")\n",
    "            audio = transcribe_gcs(gcs_audio_path)\n",
    "            transcription = audio['transcription']\n",
    "            redis_client.hset(video_id, 'audio_status', 'success')\n",
    "            for k, v in audio.items():\n",
    "                redis_client.hset(video_id, k, v)\n",
    "        except:\n",
    "            redis_client.hset(video_id, 'audio_status', 'fail')  \n",
    "            print('audio fails')\n",
    "        \n",
    "    # collect nlp features\n",
    "    if redis_client.hget(video_id, 'nlp_status') == b'success':\n",
    "        pass\n",
    "    else:\n",
    "        try: \n",
    "            nlp = dict()\n",
    "            desc_nlp = desc_nlp_feature(description)\n",
    "            trans_nlp = trans_nlp_feature(transcription)\n",
    "            nlp.update(desc_nlp)\n",
    "            nlp.update(trans_nlp)\n",
    "            redis_client.hset(video_id, 'nlp_status', 'success')\n",
    "            for k, v in nlp.items():\n",
    "                redis_client.hset(video_id, k, v)\n",
    "        except:\n",
    "            redis_client.hset(video_id, 'nlp_status', 'fail')\n",
    "            print('nlp fails')           "
   ]
  },
  {
   "cell_type": "code",
   "execution_count": 17,
   "metadata": {},
   "outputs": [],
   "source": [
    "def get_video_info(video_id):\n",
    "    # Retrieve the video information from Redis\n",
    "    video_info = redis_client.hgetall(video_id)\n",
    "\n",
    "    # Convert the values from bytes to strings and deserialize the JSON values\n",
    "    result = dict()\n",
    "    for key, value in video_info.items():\n",
    "        result[key.decode('utf-8')] = value.decode('utf-8')\n",
    "    \n",
    "    return result"
   ]
  },
  {
   "cell_type": "code",
   "execution_count": 30,
   "metadata": {},
   "outputs": [
    {
     "name": "stdout",
     "output_type": "stream",
     "text": [
      "0\n"
     ]
    }
   ],
   "source": [
    "extracted_keys = [item.decode('utf-8') for item in redis_client.scan(match='*', count=1000)[1]]\n",
    "unextracted_keys = [item for item in colon_list if item not in extracted_keys]\n",
    "print(len(unextracted_keys))"
   ]
  },
  {
   "cell_type": "code",
   "execution_count": null,
   "metadata": {},
   "outputs": [],
   "source": [
    "# Use SCAN command to retrieve all hash keys in database\n",
    "keys = redis_client.scan(match='*', count=1000)[1]\n",
    "\n",
    "# Loop through hash keys and retrieve four fields for each hash\n",
    "i = 0\n",
    "for key in keys:\n",
    "    # Check if key is a hash\n",
    "    if redis_client.type(key) == b'hash':\n",
    "        i += 1\n",
    "        # Retrieve values for four fields\n",
    "        values = redis_client.hmget(key, 'setup_status', 'metadata_status', 'video_status', 'audio_status', 'nlp_status',)\n",
    "        # Print hash key and values for four fields\n",
    "        print('Hash', key, 'fields 1-4:', values)\n",
    "print(i)\n"
   ]
  },
  {
   "cell_type": "code",
   "execution_count": null,
   "metadata": {},
   "outputs": [],
   "source": [
    "# save redis \n",
    "r = redis.Redis(host='localhost', port=6379, db=2)  # original Redis instance uses database 2\n",
    "r.bgsave()"
   ]
  }
 ],
 "metadata": {
  "kernelspec": {
   "display_name": "ytbenv",
   "language": "python",
   "name": "python3"
  },
  "language_info": {
   "codemirror_mode": {
    "name": "ipython",
    "version": 3
   },
   "file_extension": ".py",
   "mimetype": "text/x-python",
   "name": "python",
   "nbconvert_exporter": "python",
   "pygments_lexer": "ipython3",
   "version": "3.10.9"
  },
  "orig_nbformat": 4
 },
 "nbformat": 4,
 "nbformat_minor": 2
}
