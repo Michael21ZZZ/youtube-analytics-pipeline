{
 "cells": [
  {
   "cell_type": "code",
   "execution_count": 1,
   "metadata": {},
   "outputs": [],
   "source": [
    "## fix auto reloading\n",
    "import pandas\n",
    "import os\n",
    "import sys\n",
    "from dotenv import load_dotenv\n",
    "import json\n",
    "import pandas as pd\n",
    "load_dotenv()\n",
    "from video_selection.google_trends import get_trends\n",
    "from video_selection.search_by_keyword import write_keyword_and_id\n",
    "from video_selection.filter import filter_sample_videos\n",
    "from metadata_extraction.extract_metadata import metadata_extraction\n",
    "from metadata_extraction.extract_metadata import youtube_authenticate\n",
    "from datetime import datetime\n"
   ]
  },
  {
   "cell_type": "code",
   "execution_count": 3,
   "metadata": {},
   "outputs": [],
   "source": [
    "# pipeline setup\n",
    "keyword_path = './input/input_keyword_list.csv' # Modified for different disease, Input the keyword list\n",
    "keyword_ref = 'sleep apnea causes' # use the first keyword for comparison in each iteration. \n",
    "num_of_result = 100"
   ]
  },
  {
   "attachments": {},
   "cell_type": "markdown",
   "metadata": {},
   "source": [
    "# Video Selection"
   ]
  },
  {
   "cell_type": "code",
   "execution_count": 4,
   "metadata": {},
   "outputs": [
    {
     "name": "stdout",
     "output_type": "stream",
     "text": [
      "['Pain', 'anxiety', 'Sleeping', 'night', 'sore throat', 'coughing', 'Stress', 'weight gain', 'dry mouth', 'acid reflux']\n"
     ]
    },
    {
     "name": "stderr",
     "output_type": "stream",
     "text": [
      "/Users/ZHANGRY/Codes/youtube-analytics-pipeline/video_selection/google_trends.py:109: FutureWarning: The default value of numeric_only in DataFrame.mean is deprecated. In a future version, it will default to False. In addition, specifying 'numeric_only=None' is deprecated. Select only valid columns or specify the value of numeric_only to silence this warning.\n",
      "  avg_popularity = normalised.mean().sort_values(ascending = False).head(num_result)\n"
     ]
    }
   ],
   "source": [
    "# test for google trends\n",
    "keyword_list = get_trends(keyword_path, keyword_ref, num_of_result)\n",
    "print(keyword_list[:10])"
   ]
  },
  {
   "cell_type": "code",
   "execution_count": null,
   "metadata": {},
   "outputs": [],
   "source": [
    "# test search for keyword\n",
    "df_keyword = write_keyword_and_id(keyword_list, 5)\n",
    "df_keyword.head(5)"
   ]
  },
  {
   "cell_type": "code",
   "execution_count": 23,
   "metadata": {},
   "outputs": [
    {
     "data": {
      "text/html": [
       "<div>\n",
       "<style scoped>\n",
       "    .dataframe tbody tr th:only-of-type {\n",
       "        vertical-align: middle;\n",
       "    }\n",
       "\n",
       "    .dataframe tbody tr th {\n",
       "        vertical-align: top;\n",
       "    }\n",
       "\n",
       "    .dataframe thead th {\n",
       "        text-align: right;\n",
       "    }\n",
       "</style>\n",
       "<table border=\"1\" class=\"dataframe\">\n",
       "  <thead>\n",
       "    <tr style=\"text-align: right;\">\n",
       "      <th></th>\n",
       "      <th>keyword</th>\n",
       "      <th>id</th>\n",
       "      <th>rank</th>\n",
       "      <th>toKeep</th>\n",
       "    </tr>\n",
       "  </thead>\n",
       "  <tbody>\n",
       "    <tr>\n",
       "      <th>304</th>\n",
       "      <td>excessive yawning</td>\n",
       "      <td>-MjaUhSOf94</td>\n",
       "      <td>5</td>\n",
       "      <td>False</td>\n",
       "    </tr>\n",
       "    <tr>\n",
       "      <th>367</th>\n",
       "      <td>difficulty falling asleep</td>\n",
       "      <td>PmM1IH-LaVQ</td>\n",
       "      <td>3</td>\n",
       "      <td>False</td>\n",
       "    </tr>\n",
       "    <tr>\n",
       "      <th>394</th>\n",
       "      <td>Obstructive Syndrome</td>\n",
       "      <td>krxcVBgerHM</td>\n",
       "      <td>5</td>\n",
       "      <td>False</td>\n",
       "    </tr>\n",
       "    <tr>\n",
       "      <th>480</th>\n",
       "      <td>pain in front center of brain</td>\n",
       "      <td>FSPzEzNBtMg</td>\n",
       "      <td>1</td>\n",
       "      <td>False</td>\n",
       "    </tr>\n",
       "    <tr>\n",
       "      <th>481</th>\n",
       "      <td>pain in front center of brain</td>\n",
       "      <td>HvVa7vUSRIo</td>\n",
       "      <td>2</td>\n",
       "      <td>False</td>\n",
       "    </tr>\n",
       "    <tr>\n",
       "      <th>482</th>\n",
       "      <td>pain in front center of brain</td>\n",
       "      <td>1JrdO-1Wf8g</td>\n",
       "      <td>3</td>\n",
       "      <td>False</td>\n",
       "    </tr>\n",
       "    <tr>\n",
       "      <th>483</th>\n",
       "      <td>pain in front center of brain</td>\n",
       "      <td>TYhgbE_84MA</td>\n",
       "      <td>4</td>\n",
       "      <td>False</td>\n",
       "    </tr>\n",
       "    <tr>\n",
       "      <th>484</th>\n",
       "      <td>pain in front center of brain</td>\n",
       "      <td>vPje60GgHXc</td>\n",
       "      <td>5</td>\n",
       "      <td>False</td>\n",
       "    </tr>\n",
       "  </tbody>\n",
       "</table>\n",
       "</div>"
      ],
      "text/plain": [
       "                           keyword           id  rank  toKeep\n",
       "304              excessive yawning  -MjaUhSOf94     5   False\n",
       "367      difficulty falling asleep  PmM1IH-LaVQ     3   False\n",
       "394           Obstructive Syndrome  krxcVBgerHM     5   False\n",
       "480  pain in front center of brain  FSPzEzNBtMg     1   False\n",
       "481  pain in front center of brain  HvVa7vUSRIo     2   False\n",
       "482  pain in front center of brain  1JrdO-1Wf8g     3   False\n",
       "483  pain in front center of brain  TYhgbE_84MA     4   False\n",
       "484  pain in front center of brain  vPje60GgHXc     5   False"
      ]
     },
     "execution_count": 23,
     "metadata": {},
     "output_type": "execute_result"
    }
   ],
   "source": [
    "df_keyword"
   ]
  },
  {
   "cell_type": "code",
   "execution_count": null,
   "metadata": {},
   "outputs": [],
   "source": [
    "# test filter and sample\n",
    "credential_path = \"oauth_credential.json\"\n",
    "# just for test\n",
    "df_keyword = pd.read_csv('./temp/videoID_list.csv')\n",
    "sampled_videos = filter_sample_videos(df_keyword, credential_path)\n",
    "sampled_videos.head(10)"
   ]
  },
  {
   "cell_type": "code",
   "execution_count": 17,
   "metadata": {},
   "outputs": [
    {
     "data": {
      "text/html": [
       "<div>\n",
       "<style scoped>\n",
       "    .dataframe tbody tr th:only-of-type {\n",
       "        vertical-align: middle;\n",
       "    }\n",
       "\n",
       "    .dataframe tbody tr th {\n",
       "        vertical-align: top;\n",
       "    }\n",
       "\n",
       "    .dataframe thead th {\n",
       "        text-align: right;\n",
       "    }\n",
       "</style>\n",
       "<table border=\"1\" class=\"dataframe\">\n",
       "  <thead>\n",
       "    <tr style=\"text-align: right;\">\n",
       "      <th></th>\n",
       "      <th>keyword</th>\n",
       "      <th>id</th>\n",
       "      <th>rank</th>\n",
       "    </tr>\n",
       "  </thead>\n",
       "  <tbody>\n",
       "    <tr>\n",
       "      <th>0</th>\n",
       "      <td>ACROMEGALY</td>\n",
       "      <td>KLoaYPXlWHM</td>\n",
       "      <td>22</td>\n",
       "    </tr>\n",
       "    <tr>\n",
       "      <th>1</th>\n",
       "      <td>ACROMEGALY</td>\n",
       "      <td>OFl_bKVYsPo</td>\n",
       "      <td>9</td>\n",
       "    </tr>\n",
       "    <tr>\n",
       "      <th>2</th>\n",
       "      <td>ACROMEGALY</td>\n",
       "      <td>DAWYyBQJ8Jk</td>\n",
       "      <td>7</td>\n",
       "    </tr>\n",
       "    <tr>\n",
       "      <th>3</th>\n",
       "      <td>ACROMEGALY</td>\n",
       "      <td>AI-edvZx2GU</td>\n",
       "      <td>23</td>\n",
       "    </tr>\n",
       "    <tr>\n",
       "      <th>4</th>\n",
       "      <td>Anxious mood</td>\n",
       "      <td>YufQY6HqCW0</td>\n",
       "      <td>4</td>\n",
       "    </tr>\n",
       "  </tbody>\n",
       "</table>\n",
       "</div>"
      ],
      "text/plain": [
       "        keyword           id  rank\n",
       "0    ACROMEGALY  KLoaYPXlWHM    22\n",
       "1    ACROMEGALY  OFl_bKVYsPo     9\n",
       "2    ACROMEGALY  DAWYyBQJ8Jk     7\n",
       "3    ACROMEGALY  AI-edvZx2GU    23\n",
       "4  Anxious mood  YufQY6HqCW0     4"
      ]
     },
     "execution_count": 17,
     "metadata": {},
     "output_type": "execute_result"
    }
   ],
   "source": [
    "# display the video_dictionary\n",
    "df_video = pd.read_csv('temp/sampled_filtered_video_list.csv')\n",
    "df_video.head()"
   ]
  },
  {
   "cell_type": "code",
   "execution_count": 25,
   "metadata": {},
   "outputs": [
    {
     "data": {
      "text/plain": [
       "0"
      ]
     },
     "execution_count": 25,
     "metadata": {},
     "output_type": "execute_result"
    }
   ],
   "source": [
    "df_video[df_video['id']== \"KLoaYPXlWHM\"].index[0]"
   ]
  },
  {
   "cell_type": "code",
   "execution_count": null,
   "metadata": {},
   "outputs": [],
   "source": []
  },
  {
   "attachments": {},
   "cell_type": "markdown",
   "metadata": {},
   "source": [
    "# Extract Metadata"
   ]
  },
  {
   "cell_type": "code",
   "execution_count": 11,
   "metadata": {},
   "outputs": [],
   "source": [
    "# test setup\n",
    "testID = \"KLoaYPXlWHM\"\n",
    "test_keyword = \"ACROMEGALY\"\n",
    "OAUTH_CREDENTIAL_PATH = \"credentials/oauth_credential_test.json\"\n",
    "SERVICE_ACCOUNT_PATH = \"credentials/service_account.json\"\n",
    "os.environ[\"GOOGLE_APPLICATION_CREDENTIALS\"] = os.getcwd() + SERVICE_ACCOUNT_PATH\n",
    "youtube = youtube_authenticate(OAUTH_CREDENTIAL_PATH)"
   ]
  },
  {
   "cell_type": "code",
   "execution_count": 10,
   "metadata": {},
   "outputs": [
    {
     "name": "stdout",
     "output_type": "stream",
     "text": [
      "extracting the id:  KLoaYPXlWHM\n",
      "Retrieving accTag for:  https://www.youtube.com/watch?v=KLoaYPXlWHM\n",
      "error in extracting accTag\n"
     ]
    },
    {
     "data": {
      "text/html": [
       "<div>\n",
       "<style scoped>\n",
       "    .dataframe tbody tr th:only-of-type {\n",
       "        vertical-align: middle;\n",
       "    }\n",
       "\n",
       "    .dataframe tbody tr th {\n",
       "        vertical-align: top;\n",
       "    }\n",
       "\n",
       "    .dataframe thead th {\n",
       "        text-align: right;\n",
       "    }\n",
       "</style>\n",
       "<table border=\"1\" class=\"dataframe\">\n",
       "  <thead>\n",
       "    <tr style=\"text-align: right;\">\n",
       "      <th></th>\n",
       "      <th>id</th>\n",
       "      <th>titleLength</th>\n",
       "      <th>hasTags</th>\n",
       "      <th>num_of_tags</th>\n",
       "      <th>hasDescription</th>\n",
       "      <th>hasThumbnail</th>\n",
       "      <th>channel_subscribers</th>\n",
       "      <th>accreditationTag</th>\n",
       "      <th>duration</th>\n",
       "      <th>description</th>\n",
       "      <th>publish_days</th>\n",
       "    </tr>\n",
       "  </thead>\n",
       "  <tbody>\n",
       "    <tr>\n",
       "      <th>0</th>\n",
       "      <td>KLoaYPXlWHM</td>\n",
       "      <td>11</td>\n",
       "      <td>1</td>\n",
       "      <td>17</td>\n",
       "      <td>1</td>\n",
       "      <td>1</td>\n",
       "      <td>33400</td>\n",
       "      <td>0</td>\n",
       "      <td>259.0</td>\n",
       "      <td>Part II of The Voices of Acromegaly video seri...</td>\n",
       "      <td>2998</td>\n",
       "    </tr>\n",
       "  </tbody>\n",
       "</table>\n",
       "</div>"
      ],
      "text/plain": [
       "            id  titleLength  hasTags  num_of_tags  hasDescription  \\\n",
       "0  KLoaYPXlWHM           11        1           17               1   \n",
       "\n",
       "   hasThumbnail channel_subscribers  accreditationTag  duration  \\\n",
       "0             1               33400                 0     259.0   \n",
       "\n",
       "                                         description  publish_days  \n",
       "0  Part II of The Voices of Acromegaly video seri...          2998  "
      ]
     },
     "execution_count": 10,
     "metadata": {},
     "output_type": "execute_result"
    }
   ],
   "source": [
    "# extract raw metadata\n",
    "youtube = youtube_authenticate(OAUTH_CREDENTIAL_PATH)\n",
    "raw_metadata = metadata_extraction(youtube, testID) # in json file\n",
    "pd.DataFrame(raw_metadata, index=[0])"
   ]
  },
  {
   "cell_type": "code",
   "execution_count": 35,
   "metadata": {},
   "outputs": [
    {
     "name": "stdout",
     "output_type": "stream",
     "text": [
      "\n",
      "Processing video for shot change annotations:\n",
      "\n",
      "Finished processing.\n",
      "\n",
      "Processing video for object annotations.\n",
      "\n",
      "Finished processing.\n",
      "\n",
      "\n",
      "Processing video for text detection.\n"
     ]
    },
    {
     "data": {
      "text/html": [
       "<div>\n",
       "<style scoped>\n",
       "    .dataframe tbody tr th:only-of-type {\n",
       "        vertical-align: middle;\n",
       "    }\n",
       "\n",
       "    .dataframe tbody tr th {\n",
       "        vertical-align: top;\n",
       "    }\n",
       "\n",
       "    .dataframe thead th {\n",
       "        text-align: right;\n",
       "    }\n",
       "</style>\n",
       "<table border=\"1\" class=\"dataframe\">\n",
       "  <thead>\n",
       "    <tr style=\"text-align: right;\">\n",
       "      <th></th>\n",
       "      <th>num_of_shots</th>\n",
       "      <th>num_of_objects</th>\n",
       "      <th>text_confidence</th>\n",
       "    </tr>\n",
       "  </thead>\n",
       "  <tbody>\n",
       "    <tr>\n",
       "      <th>0</th>\n",
       "      <td>9</td>\n",
       "      <td>145</td>\n",
       "      <td>0.97195</td>\n",
       "    </tr>\n",
       "  </tbody>\n",
       "</table>\n",
       "</div>"
      ],
      "text/plain": [
       "   num_of_shots  num_of_objects  text_confidence\n",
       "0             9             145          0.97195"
      ]
     },
     "execution_count": 35,
     "metadata": {},
     "output_type": "execute_result"
    }
   ],
   "source": [
    "# video feature extraction\n",
    "# one video takes roughly 4 minutes\n",
    "os.environ[\"SERVICE_ACCOUNT_PATH\"] = \"/credentials/service_account.json\"\n",
    "os.environ[\"GOOGLE_APPLICATION_CREDENTIALS\"] = os.getcwd() + os.environ[\"SERVICE_ACCOUNT_PATH\"]\n",
    "from video_analysis.video_analysis import analyze_by_path\n",
    "def id_2_index(videoID):\n",
    "    return df_video[df_video['id']== videoID].index[0]\n",
    "\n",
    "VIDEO_BUCKET_PATH = \"gs://youtube-video-bucket/\"\n",
    "def index_2_gcp_path(index):\n",
    "    return VIDEO_BUCKET_PATH + str(index) + \".mp4\"\n",
    "\n",
    "test_video_path = index_2_gcp_path(id_2_index(testID))\n",
    "video_feature = analyze_by_path(test_video_path)\n",
    "pd.DataFrame(video_feature, index=[0])"
   ]
  },
  {
   "cell_type": "code",
   "execution_count": null,
   "metadata": {},
   "outputs": [],
   "source": [
    "# nlp feature\n",
    "# transcription features\n",
    "\n",
    "# cosine similarty calculation\n"
   ]
  },
  {
   "cell_type": "code",
   "execution_count": null,
   "metadata": {},
   "outputs": [],
   "source": [
    "# cosine similarty calculation\n"
   ]
  },
  {
   "cell_type": "code",
   "execution_count": 6,
   "metadata": {},
   "outputs": [
    {
     "data": {
      "text/plain": [
       "'{\"installed\":{\"client_id\":\"45152107222-al8csdiq5n470pknclhuv4a57gjr6h6r.apps.googleusercontent.com\",\"project_id\":\"geometric-rock-358702\",\"auth_uri\":\"https://accounts.google.com/o/oauth2/auth\",\"token_uri\":\"https://oauth2.googleapis.com/token\",\"auth_provider_x509_cert_url\":\"https://www.googleapis.com/oauth2/v1/certs\",\"client_secret\":\"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\",\"redirect_uris\":[\"http://localhost\"]}}'"
      ]
     },
     "execution_count": 6,
     "metadata": {},
     "output_type": "execute_result"
    }
   ],
   "source": [
    "# final concatenation\n"
   ]
  },
  {
   "cell_type": "code",
   "execution_count": 29,
   "metadata": {},
   "outputs": [
    {
     "name": "stdout",
     "output_type": "stream",
     "text": [
      "environ({'COMMAND_MODE': 'unix2003', 'CONDA_DEFAULT_ENV': 'ytbenv', 'CONDA_EXE': '/opt/anaconda3/bin/conda', 'CONDA_PREFIX': '/opt/anaconda3/envs/ytbenv', 'CONDA_PROMPT_MODIFIER': '(ytbenv) ', 'CONDA_PYTHON_EXE': '/opt/anaconda3/bin/python', 'CONDA_SHLVL': '2', 'HOME': '/Users/ZHANGRY', 'HOMEBREW_CELLAR': '/opt/homebrew/Cellar', 'HOMEBREW_PREFIX': '/opt/homebrew', 'HOMEBREW_REPOSITORY': '/opt/homebrew', 'INFOPATH': '/opt/homebrew/share/info:', 'JAVA_HOME': '/Users/ZHANGRY/Library/Java/JavaVirtualMachines/jdk-18.0.2.1.jdk/Contents/Home', 'LESS': '-R', 'LOGNAME': 'ZHANGRY', 'LSCOLORS': 'Gxfxcxdxbxegedabagacad', 'MANPATH': '/Users/ZHANGRY/.nvm/versions/node/v18.8.0/share/man:/opt/homebrew/share/man::', 'MallocNanoZone': '0', 'NVM_BIN': '/Users/ZHANGRY/.nvm/versions/node/v18.8.0/bin', 'NVM_CD_FLAGS': '-q', 'NVM_DIR': '/Users/ZHANGRY/.nvm', 'NVM_INC': '/Users/ZHANGRY/.nvm/versions/node/v18.8.0/include/node', 'OLDPWD': '/', 'ORIGINAL_XDG_CURRENT_DESKTOP': 'undefined', 'P9K_SSH': '0', 'PAGER': 'cat', 'PATH': '/opt/anaconda3/envs/ytbenv/bin:/Users/ZHANGRY/Library/Java/JavaVirtualMachines/jdk-18.0.2.1.jdk/Contents/Home/bin:/Users/ZHANGRY/.nvm/versions/node/v18.8.0/bin:/Users/ZHANGRY/google-cloud-sdk/bin:/opt/anaconda3/envs/ytbenv/bin:/opt/anaconda3/condabin:/opt/homebrew/bin:/opt/homebrew/sbin:/usr/local/bin:/usr/bin:/bin:/usr/sbin:/sbin:/usr/ZHANGRY/Documents/WebDriver:/Users/ZHANGRY/Library/Python/3.8/lib/python/site-packages/virtualenv :/Library/Apple/usr/bin:/Users/ZHANGRY/Library/flutter/bin', 'PWD': '/', 'SHELL': '/bin/zsh', 'SHLVL': '2', 'SSH_AUTH_SOCK': '/private/tmp/com.apple.launchd.Hm97o2aq3r/Listeners', 'TMPDIR': '/var/folders/k2/4sq9hj556ds5m5fz707gl89r0000gn/T/', 'USER': 'ZHANGRY', 'VSCODE_AMD_ENTRYPOINT': 'vs/workbench/api/node/extensionHostProcess', 'VSCODE_CODE_CACHE_PATH': '/Users/ZHANGRY/Library/Application Support/Code/CachedData/441438abd1ac652551dbe4d408dfcec8a499b8bf', 'VSCODE_CWD': '/', 'VSCODE_HANDLES_UNCAUGHT_ERRORS': 'true', 'VSCODE_IPC_HOOK': '/Users/ZHANGRY/Library/Application Support/Code/1.75.1-main.sock', 'VSCODE_NLS_CONFIG': '{\"locale\":\"en-us\",\"availableLanguages\":{},\"_languagePackSupport\":true}', 'VSCODE_PID': '23647', 'XPC_FLAGS': '0x0', 'XPC_SERVICE_NAME': '0', 'ZSH': '/Users/ZHANGRY/.oh-my-zsh', '_': '/opt/anaconda3/envs/ytbenv/bin/python', '__CFBundleIdentifier': 'com.microsoft.VSCode', '__CF_USER_TEXT_ENCODING': '0x1F5:0x0:0x0', 'ELECTRON_RUN_AS_NODE': '1', 'APPLICATION_INSIGHTS_NO_DIAGNOSTIC_CHANNEL': '1', 'TELEMETRY_ID': '5844bc7b-464b-4cd6-9d67-a8d083bcd9ba', 'RECOMMENDER_API_URL': 'https://gw.api.openshift.io//api/v2', 'THREE_SCALE_USER_TOKEN': '207c527cfc2a6b8dcf4fa43ad7a976da', 'PROVIDE_FULLSTACK_ACTION': 'true', 'GOLANG_EXECUTABLE': 'go', 'UTM_SOURCE': 'vscode', 'UUID': '65d7fef5-1797-4811-ba55-9390afd6ee58', 'JUPYTER_PATH': '/Users/ZHANGRY/.vscode/extensions/ms-toolsai.jupyter-2023.1.2010391206/temp/jupyter', 'PYTHONUNBUFFERED': '1', 'PYTHONIOENCODING': 'utf-8', 'SDKROOT': '/Applications/Xcode.app/Contents/Developer/Platforms/MacOSX.platform/Developer/SDKs/MacOSX.sdk', 'CPATH': '/usr/local/include', 'LIBRARY_PATH': '/usr/local/lib', 'LC_CTYPE': 'UTF-8', 'PYDEVD_USE_FRAME_EVAL': 'NO', 'VSCODE_L10N_BUNDLE_LOCATION': '', '_CE_CONDA': '', 'CONDA_PREFIX_1': '/opt/anaconda3', 'CONDA_ROOT': '/opt/anaconda3', '_CE_M': '', 'PYDEVD_IPYTHON_COMPATIBLE_DEBUGGING': '1', 'JPY_PARENT_PID': '30824', 'TERM': 'xterm-color', 'CLICOLOR': '1', 'FORCE_COLOR': '1', 'CLICOLOR_FORCE': '1', 'GIT_PAGER': 'cat', 'MPLBACKEND': 'module://matplotlib_inline.backend_inline', 'KMP_DUPLICATE_LIB_OK': 'True', 'KMP_INIT_AT_FORK': 'FALSE', 'OAUTHLIB_INSECURE_TRANSPORT': '1', 'GOOGLE_APPLICATION_CREDENTIALS': '/Users/ZHANGRY/Codes/youtube-analytics-pipeline/credential_and_key/geometric-rock-358702-c152672f14dc.json'})\n"
     ]
    }
   ],
   "source": [
    "print(os.environ)"
   ]
  },
  {
   "cell_type": "code",
   "execution_count": 31,
   "metadata": {},
   "outputs": [
    {
     "data": {
      "text/plain": [
       "'/Users/ZHANGRY/Codes/youtube-analytics-pipeline/credential_and_key/geometric-rock-358702-c152672f14dc.json'"
      ]
     },
     "execution_count": 31,
     "metadata": {},
     "output_type": "execute_result"
    }
   ],
   "source": [
    "os.getenv(\"GOOGLE_APPLICATION_CREDENTIALS\")"
   ]
  },
  {
   "cell_type": "code",
   "execution_count": 32,
   "metadata": {},
   "outputs": [],
   "source": [
    "os.getenv(\"AUDIO_BUCKET_NAME\")"
   ]
  },
  {
   "cell_type": "code",
   "execution_count": null,
   "metadata": {},
   "outputs": [],
   "source": []
  }
 ],
 "metadata": {
  "kernelspec": {
   "display_name": "ytbenv",
   "language": "python",
   "name": "python3"
  },
  "language_info": {
   "codemirror_mode": {
    "name": "ipython",
    "version": 3
   },
   "file_extension": ".py",
   "mimetype": "text/x-python",
   "name": "python",
   "nbconvert_exporter": "python",
   "pygments_lexer": "ipython3",
   "version": "3.10.9"
  },
  "orig_nbformat": 4,
  "vscode": {
   "interpreter": {
    "hash": "80777cd759fb8cfcc5f5e0e6b700a3805663f57bac696880159140919b8c3054"
   }
  }
 },
 "nbformat": 4,
 "nbformat_minor": 2
}
