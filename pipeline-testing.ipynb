{
 "cells": [
  {
   "cell_type": "code",
   "execution_count": 64,
   "metadata": {},
   "outputs": [
    {
     "data": {
      "text/plain": [
       "True"
      ]
     },
     "execution_count": 64,
     "metadata": {},
     "output_type": "execute_result"
    }
   ],
   "source": [
    "## fix auto reloading\n",
    "import pandas\n",
    "import os\n",
    "import sys\n",
    "from dotenv import load_dotenv\n",
    "import json\n",
    "import pandas as pd\n",
    "from video_selection.google_trends import get_trends\n",
    "from video_selection.search_by_keyword import write_keyword_and_id\n",
    "from video_selection.filter import filter_sample_videos\n",
    "from feature_extraction.metadata import metadata_extraction\n",
    "from feature_extraction.metadata import youtube_authenticate\n",
    "from feature_extraction.video import analyze_by_path\n",
    "from feature_extraction.setup import *\n",
    "from feature_extraction.audio import transcribe_gcs\n",
    "from feature_extraction.NLP import *\n",
    "from datetime import datetime\n",
    "import pprint\n",
    "\n",
    "# Load environment variables from the .env file\n",
    "load_dotenv(override=True)"
   ]
  },
  {
   "attachments": {},
   "cell_type": "markdown",
   "metadata": {},
   "source": [
    "# Video Selection"
   ]
  },
  {
   "cell_type": "code",
   "execution_count": 7,
   "metadata": {},
   "outputs": [],
   "source": [
    "# pipeline setup\n",
    "keyword_path = './input/input_keyword_list.csv' # Modified for different disease, Input the keyword list\n",
    "keyword_ref = 'sleep apnea causes' # use the first keyword for comparison in each iteration. \n",
    "num_of_result = 100"
   ]
  },
  {
   "cell_type": "code",
   "execution_count": null,
   "metadata": {},
   "outputs": [],
   "source": [
    "# test for google trends\n",
    "keyword_list = get_trends(keyword_path, keyword_ref, num_of_result)\n",
    "print(keyword_list[:10])"
   ]
  },
  {
   "cell_type": "code",
   "execution_count": null,
   "metadata": {},
   "outputs": [],
   "source": [
    "# test search for keyword\n",
    "df_keyword = write_keyword_and_id(keyword_list, 5)\n",
    "df_keyword.head(5)"
   ]
  },
  {
   "cell_type": "code",
   "execution_count": null,
   "metadata": {},
   "outputs": [
    {
     "data": {
      "text/html": [
       "<div>\n",
       "<style scoped>\n",
       "    .dataframe tbody tr th:only-of-type {\n",
       "        vertical-align: middle;\n",
       "    }\n",
       "\n",
       "    .dataframe tbody tr th {\n",
       "        vertical-align: top;\n",
       "    }\n",
       "\n",
       "    .dataframe thead th {\n",
       "        text-align: right;\n",
       "    }\n",
       "</style>\n",
       "<table border=\"1\" class=\"dataframe\">\n",
       "  <thead>\n",
       "    <tr style=\"text-align: right;\">\n",
       "      <th></th>\n",
       "      <th>keyword</th>\n",
       "      <th>id</th>\n",
       "      <th>rank</th>\n",
       "      <th>toKeep</th>\n",
       "    </tr>\n",
       "  </thead>\n",
       "  <tbody>\n",
       "    <tr>\n",
       "      <th>304</th>\n",
       "      <td>excessive yawning</td>\n",
       "      <td>-MjaUhSOf94</td>\n",
       "      <td>5</td>\n",
       "      <td>False</td>\n",
       "    </tr>\n",
       "    <tr>\n",
       "      <th>367</th>\n",
       "      <td>difficulty falling asleep</td>\n",
       "      <td>PmM1IH-LaVQ</td>\n",
       "      <td>3</td>\n",
       "      <td>False</td>\n",
       "    </tr>\n",
       "    <tr>\n",
       "      <th>394</th>\n",
       "      <td>Obstructive Syndrome</td>\n",
       "      <td>krxcVBgerHM</td>\n",
       "      <td>5</td>\n",
       "      <td>False</td>\n",
       "    </tr>\n",
       "    <tr>\n",
       "      <th>480</th>\n",
       "      <td>pain in front center of brain</td>\n",
       "      <td>FSPzEzNBtMg</td>\n",
       "      <td>1</td>\n",
       "      <td>False</td>\n",
       "    </tr>\n",
       "    <tr>\n",
       "      <th>481</th>\n",
       "      <td>pain in front center of brain</td>\n",
       "      <td>HvVa7vUSRIo</td>\n",
       "      <td>2</td>\n",
       "      <td>False</td>\n",
       "    </tr>\n",
       "    <tr>\n",
       "      <th>482</th>\n",
       "      <td>pain in front center of brain</td>\n",
       "      <td>1JrdO-1Wf8g</td>\n",
       "      <td>3</td>\n",
       "      <td>False</td>\n",
       "    </tr>\n",
       "    <tr>\n",
       "      <th>483</th>\n",
       "      <td>pain in front center of brain</td>\n",
       "      <td>TYhgbE_84MA</td>\n",
       "      <td>4</td>\n",
       "      <td>False</td>\n",
       "    </tr>\n",
       "    <tr>\n",
       "      <th>484</th>\n",
       "      <td>pain in front center of brain</td>\n",
       "      <td>vPje60GgHXc</td>\n",
       "      <td>5</td>\n",
       "      <td>False</td>\n",
       "    </tr>\n",
       "  </tbody>\n",
       "</table>\n",
       "</div>"
      ],
      "text/plain": [
       "                           keyword           id  rank  toKeep\n",
       "304              excessive yawning  -MjaUhSOf94     5   False\n",
       "367      difficulty falling asleep  PmM1IH-LaVQ     3   False\n",
       "394           Obstructive Syndrome  krxcVBgerHM     5   False\n",
       "480  pain in front center of brain  FSPzEzNBtMg     1   False\n",
       "481  pain in front center of brain  HvVa7vUSRIo     2   False\n",
       "482  pain in front center of brain  1JrdO-1Wf8g     3   False\n",
       "483  pain in front center of brain  TYhgbE_84MA     4   False\n",
       "484  pain in front center of brain  vPje60GgHXc     5   False"
      ]
     },
     "execution_count": 23,
     "metadata": {},
     "output_type": "execute_result"
    }
   ],
   "source": [
    "df_keyword"
   ]
  },
  {
   "cell_type": "code",
   "execution_count": null,
   "metadata": {},
   "outputs": [],
   "source": [
    "# test filter and sample\n",
    "credential_path = \"oauth_credential.json\"\n",
    "# just for test\n",
    "df_keyword = pd.read_csv('./temp/videoID_list.csv')\n",
    "sampled_videos = filter_sample_videos(df_keyword, credential_path)\n",
    "sampled_videos.head(10)"
   ]
  },
  {
   "cell_type": "code",
   "execution_count": null,
   "metadata": {},
   "outputs": [
    {
     "data": {
      "text/html": [
       "<div>\n",
       "<style scoped>\n",
       "    .dataframe tbody tr th:only-of-type {\n",
       "        vertical-align: middle;\n",
       "    }\n",
       "\n",
       "    .dataframe tbody tr th {\n",
       "        vertical-align: top;\n",
       "    }\n",
       "\n",
       "    .dataframe thead th {\n",
       "        text-align: right;\n",
       "    }\n",
       "</style>\n",
       "<table border=\"1\" class=\"dataframe\">\n",
       "  <thead>\n",
       "    <tr style=\"text-align: right;\">\n",
       "      <th></th>\n",
       "      <th>keyword</th>\n",
       "      <th>id</th>\n",
       "      <th>rank</th>\n",
       "    </tr>\n",
       "  </thead>\n",
       "  <tbody>\n",
       "    <tr>\n",
       "      <th>0</th>\n",
       "      <td>ACROMEGALY</td>\n",
       "      <td>KLoaYPXlWHM</td>\n",
       "      <td>22</td>\n",
       "    </tr>\n",
       "    <tr>\n",
       "      <th>1</th>\n",
       "      <td>ACROMEGALY</td>\n",
       "      <td>OFl_bKVYsPo</td>\n",
       "      <td>9</td>\n",
       "    </tr>\n",
       "    <tr>\n",
       "      <th>2</th>\n",
       "      <td>ACROMEGALY</td>\n",
       "      <td>DAWYyBQJ8Jk</td>\n",
       "      <td>7</td>\n",
       "    </tr>\n",
       "    <tr>\n",
       "      <th>3</th>\n",
       "      <td>ACROMEGALY</td>\n",
       "      <td>AI-edvZx2GU</td>\n",
       "      <td>23</td>\n",
       "    </tr>\n",
       "    <tr>\n",
       "      <th>4</th>\n",
       "      <td>Anxious mood</td>\n",
       "      <td>YufQY6HqCW0</td>\n",
       "      <td>4</td>\n",
       "    </tr>\n",
       "  </tbody>\n",
       "</table>\n",
       "</div>"
      ],
      "text/plain": [
       "        keyword           id  rank\n",
       "0    ACROMEGALY  KLoaYPXlWHM    22\n",
       "1    ACROMEGALY  OFl_bKVYsPo     9\n",
       "2    ACROMEGALY  DAWYyBQJ8Jk     7\n",
       "3    ACROMEGALY  AI-edvZx2GU    23\n",
       "4  Anxious mood  YufQY6HqCW0     4"
      ]
     },
     "execution_count": 17,
     "metadata": {},
     "output_type": "execute_result"
    }
   ],
   "source": [
    "# display the video_dictionary\n",
    "df_video = pd.read_csv('temp/sampled_filtered_video_list.csv')\n",
    "df_video.head()"
   ]
  },
  {
   "cell_type": "code",
   "execution_count": null,
   "metadata": {},
   "outputs": [
    {
     "data": {
      "text/plain": [
       "0"
      ]
     },
     "execution_count": 25,
     "metadata": {},
     "output_type": "execute_result"
    }
   ],
   "source": [
    "df_video[df_video['id']== \"KLoaYPXlWHM\"].index[0]"
   ]
  },
  {
   "attachments": {},
   "cell_type": "markdown",
   "metadata": {},
   "source": [
    "# Extract Metadata"
   ]
  },
  {
   "cell_type": "code",
   "execution_count": 65,
   "metadata": {},
   "outputs": [
    {
     "name": "stdout",
     "output_type": "stream",
     "text": [
      "Downloading: https://www.youtube.com/watch?v=KLoaYPXlWHM\n",
      "Video successfully downloaded!\n",
      "MoviePy - Writing audio in /Users/ZHANGRY/Codes/youtube-analytics-pipeline/temp/audio/KLoaYPXlWHM.wav\n"
     ]
    },
    {
     "name": "stderr",
     "output_type": "stream",
     "text": [
      "                                                                      \r"
     ]
    },
    {
     "name": "stdout",
     "output_type": "stream",
     "text": [
      "MoviePy - Done.\n",
      "File /Users/ZHANGRY/Codes/youtube-analytics-pipeline/temp/video/KLoaYPXlWHM.mp4 uploaded to KLoaYPXlWHM.mp4.\n",
      "File /Users/ZHANGRY/Codes/youtube-analytics-pipeline/temp/audio/KLoaYPXlWHM.wav uploaded to KLoaYPXlWHM.wav.\n"
     ]
    }
   ],
   "source": [
    "# pipeline setup\n",
    "testID = \"KLoaYPXlWHM\"\n",
    "test_keyword = \"ACROMEGALY\"\n",
    "os.environ[\"GOOGLE_APPLICATION_CREDENTIALS\"] = os.getcwd() + os.environ.get(\"SERVICE_ACCOUNT_PATH\")\n",
    "youtube = youtube_authenticate(os.environ.get(\"OAUTH_CREDENTIAL_PATH\"))\n",
    "local_video_path = \"/Users/ZHANGRY/Codes/youtube-analytics-pipeline/temp/video\"\n",
    "local_audio_path = \"/Users/ZHANGRY/Codes/youtube-analytics-pipeline/temp/audio\"\n",
    "bucket_name = \"youtube_pipeline_testing\"\n",
    "gcs_bucket_path = os.path.join(\"gs://\", bucket_name)\n",
    "gcs_video_path = os.path.join(gcs_bucket_path, testID +\".mp4\")\n",
    "gcs_audio_path = os.path.join(gcs_bucket_path, testID +\".wav\")\n",
    "\n",
    "# download video to local \n",
    "download_video_by_id(testID, local_video_path)\n",
    "\n",
    "# extract audio from video\n",
    "extract_audios_from_videos(local_video_path, local_audio_path)\n",
    "\n",
    "# upload video to GCP for video analysis\n",
    "upload_files(bucket_name, local_video_path)\n",
    "\n",
    "# upload audio to GCP for transcription analysis\n",
    "upload_files(bucket_name, local_audio_path)\n",
    "\n",
    "# get bucket information\n",
    "# bucket_metadata(bucket_name)"
   ]
  },
  {
   "cell_type": "code",
   "execution_count": 66,
   "metadata": {},
   "outputs": [
    {
     "name": "stdout",
     "output_type": "stream",
     "text": [
      "extracting the id:  KLoaYPXlWHM\n",
      "Retrieving accTag for:  https://www.youtube.com/watch?v=KLoaYPXlWHM\n",
      "error in extracting accTag\n",
      "\n",
      "Processing video for shot change annotations:\n",
      "\n",
      "Finished processing.\n",
      "\n",
      "Processing video for object annotations.\n",
      "\n",
      "Finished processing.\n",
      "\n",
      "\n",
      "Processing video for text detection.\n",
      "Waiting for operation to complete...\n",
      "Transcript: the voices of acromegaly a 360-degree look at that condition part to managing acromegaly A Day in the Life it's challenging to manage acromegaly patients should work with their Physicians to regularly Monitor and control their g h and igf-1 levels to help reduce the potential Health complications of acromegaly such as heart disease hypertension or diabetes there are also often psychosocial effects associated with this rare and life-threatening condition listen to the following people describe the day-to-day struggles of living with acromegaly the challenges faced and the adjustments they've had to make in order to cope with this condition\n",
      "Confidence: 0.9662668704986572\n",
      "Transcript:  say this a lot of stress and arranged with the diagnosis of start with another length of time it takes to get the diagnosis and then you faced with possibly surgery maybe rages therapy you know that's very frightening and you know what does that mean going into the surgery I was terrified I thought that I was going to die honestly you know went around and hugged everybody that I knew and said it was nice knowing you had a very good to education he was an engineer like from the best engineering school in Russia but he couldn't do a regular work because he will head over this headaches and and also now I understand that there are psychological symptoms and which don't let him feel like others everyday\n",
      "Confidence: 0.9575746655464172\n",
      "Transcript:  and that was I think that was the most difficult part for me because after they changed my position to a new Department I I didn't have to I don't have to move around anymore I just do the office work and I'm doing well though so after the surgery you know for five days of feeling you had a key and crummy but some\n",
      "Confidence: 0.9257603883743286\n",
      "Transcript:  after about a week I felt like a new person I felt like I could see clearer everything I could smell but I felt like I could actually sense different smells better food smell better\n",
      "Confidence: 0.9133256077766418\n",
      "Transcript:  I just have more energy the problem is that if you don't talk about it if you don't go to the doctor if you don't get treated then just get worse and worse and\n",
      "Confidence: 0.9444206357002258\n",
      "Transcript:  so I go to my endocrinologist every 6 months to get my blood work checked all of my hormones and a set of plugs work for a number of years after my surgery it was suspected that the chamber was coming back because my hormones was still a little out of one but it has managed to level out and become normal again I do know that it's important one of them a homo level monthly basis because my doctor told me about the complication of a chemically and you know what you can get like a hypertension or diabetes\n",
      "Confidence: 0.9412966370582581\n",
      "Transcript:  so many different things and I do know that it's important to control my Talking Angela to avoid it was complications so that my quality of life get maintained\n",
      "Confidence: 0.8824257254600525\n",
      "Transcript:  dealing with acromegaly can be a difficult experience patients should discuss their signs and symptoms with their physician on a monthly basis to ensure their current therapy is meeting their needs please visit acromegaly info.com in the US or about acromegaly.com outside of the US to learn more about the disease and acquire supportive resources and materials\n",
      "Confidence: 0.9522245526313782\n",
      "{'accreditationTag': 0,\n",
      " 'channel_subscribers': '33400',\n",
      " 'cos_desc': 0.14675344736144216,\n",
      " 'cos_title': 0.21951095080860836,\n",
      " 'cos_trans': 0.10025657034850945,\n",
      " 'desc_act': 30,\n",
      " 'desc_ari': 8.581266233766232,\n",
      " 'desc_mer': 2,\n",
      " 'desc_sen': 7,\n",
      " 'desc_sum': 0,\n",
      " 'desc_trans': 0,\n",
      " 'desc_uni': 34,\n",
      " 'desc_words': 44,\n",
      " 'duration': 259.0,\n",
      " 'hasDescription': 1,\n",
      " 'hasTags': 1,\n",
      " 'hasThumbnail': 1,\n",
      " 'id': 'KLoaYPXlWHM',\n",
      " 'num_of_objects': 145,\n",
      " 'num_of_shots': 9,\n",
      " 'num_of_tags': 17,\n",
      " 'publish_days': 2998,\n",
      " 'text_confidence': 0.9719501769903934,\n",
      " 'tran_act': 415,\n",
      " 'tran_ari': 137.41669691470054,\n",
      " 'tran_mer': 5,\n",
      " 'tran_sen': 2,\n",
      " 'tran_sum': 0,\n",
      " 'tran_trans': 1,\n",
      " 'tran_uni': 261,\n",
      " 'tran_words': 551,\n",
      " 'transcription confidence': 0.9354118853807449}\n"
     ]
    }
   ],
   "source": [
    "# raw metadata features\n",
    "metadata = metadata_extraction(youtube, testID) # in json file\n",
    "\n",
    "# video feature, 4 minutes for a video\n",
    "video = analyze_by_path(gcs_video_path)\n",
    "\n",
    "# transcription feature, 1 min 30 s for a video\n",
    "audio = transcribe_gcs(gcs_audio_path)\n",
    "\n",
    "# nlp feature\n",
    "nlp = {}\n",
    "\n",
    "# syntatic features of description and transcription\n",
    "nlp['desc_words'],nlp['desc_uni'],nlp['desc_sen'],nlp['desc_act'], nlp['desc_sum'], nlp['desc_trans'], nlp['desc_ari'] = count_stats(metadata['description'])\n",
    "nlp['tran_words'],nlp['tran_uni'],nlp['tran_sen'],nlp['tran_act'], nlp['tran_sum'], nlp['tran_trans'], nlp['tran_ari'] = count_stats(audio['transcription'])\n",
    "\n",
    "# mer features of description and transcription\n",
    "nlp['desc_mer'] = medical_entity_count(metadata['description'])\n",
    "nlp['tran_mer'] = medical_entity_count(audio['transcription'])\n",
    "\n",
    "# cosine similarity feature\n",
    "nlp['cos_desc'] = calculate_cosine_similarity(test_keyword, metadata['description'])\n",
    "nlp['cos_trans'] = calculate_cosine_similarity(test_keyword, audio['transcription'])\n",
    "nlp['cos_title'] = calculate_cosine_similarity(test_keyword, metadata['title'])\n",
    "\n",
    "# concat all features\n",
    "merged_feature = {}\n",
    "merged_feature.update(metadata)\n",
    "merged_feature.update(video)\n",
    "merged_feature.update(audio)\n",
    "merged_feature.update(nlp)\n",
    "\n",
    "# drop unnecessary columns\n",
    "merged_feature.pop('description')\n",
    "merged_feature.pop('transcription')\n",
    "merged_feature.pop('title')\n",
    "\n",
    "pprint.pprint(merged_feature)"
   ]
  },
  {
   "cell_type": "code",
   "execution_count": 68,
   "metadata": {},
   "outputs": [
    {
     "name": "stdout",
     "output_type": "stream",
     "text": [
      "{'accreditationTag': 0,\n",
      " 'channel_subscribers': '33400',\n",
      " 'cos_desc': 0.14675344736144216,\n",
      " 'cos_title': 0.21951095080860836,\n",
      " 'cos_trans': 0.10025657034850945,\n",
      " 'desc_act': 30,\n",
      " 'desc_ari': 8.581266233766232,\n",
      " 'desc_mer': 2,\n",
      " 'desc_sen': 7,\n",
      " 'desc_sum': 0,\n",
      " 'desc_trans': 0,\n",
      " 'desc_uni': 34,\n",
      " 'desc_words': 44,\n",
      " 'duration': 259.0,\n",
      " 'hasDescription': 1,\n",
      " 'hasTags': 1,\n",
      " 'hasThumbnail': 1,\n",
      " 'id': 'KLoaYPXlWHM',\n",
      " 'num_of_objects': 145,\n",
      " 'num_of_shots': 9,\n",
      " 'num_of_tags': 17,\n",
      " 'publish_days': 2998,\n",
      " 'text_confidence': 0.9719501769903934,\n",
      " 'tran_act': 415,\n",
      " 'tran_ari': 137.41669691470054,\n",
      " 'tran_mer': 5,\n",
      " 'tran_sen': 2,\n",
      " 'tran_sum': 0,\n",
      " 'tran_trans': 1,\n",
      " 'tran_uni': 261,\n",
      " 'tran_words': 551,\n",
      " 'transcription confidence': 0.9354118853807449}\n"
     ]
    }
   ],
   "source": [
    "pprint.pprint(merged_feature)"
   ]
  },
  {
   "cell_type": "code",
   "execution_count": 60,
   "metadata": {},
   "outputs": [
    {
     "name": "stdout",
     "output_type": "stream",
     "text": [
      "{'accreditationTag': 0,\n",
      " 'channel_subscribers': '33400',\n",
      " 'cos_desc': 0.14675344736144216,\n",
      " 'cos_title': 0.21951095080860836,\n",
      " 'cos_trans': 0.10025657034850945,\n",
      " 'desc_act': 30,\n",
      " 'desc_ari': 8.581266233766232,\n",
      " 'desc_mer': 2,\n",
      " 'desc_sen': 7,\n",
      " 'desc_sum': 0,\n",
      " 'desc_trans': 0,\n",
      " 'desc_uni': 34,\n",
      " 'desc_words': 44,\n",
      " 'duration': 259.0,\n",
      " 'hasDescription': 1,\n",
      " 'hasTags': 1,\n",
      " 'hasThumbnail': 1,\n",
      " 'id': 'KLoaYPXlWHM.wav',\n",
      " 'num_of_objects': 145,\n",
      " 'num_of_shots': 9,\n",
      " 'num_of_tags': 17,\n",
      " 'publish_days': 2998,\n",
      " 'text_confidence': 0.9719501787965948,\n",
      " 'tran_act': 415,\n",
      " 'tran_ari': 137.41669691470054,\n",
      " 'tran_mer': 5,\n",
      " 'tran_sen': 2,\n",
      " 'tran_sum': 0,\n",
      " 'tran_trans': 1,\n",
      " 'tran_uni': 261,\n",
      " 'tran_words': 551,\n",
      " 'transcription confidence': 0.9354129061102867}\n"
     ]
    }
   ],
   "source": [
    "# concat all features\n",
    "merged_feature = {}\n",
    "merged_feature.update(metadata)\n",
    "merged_feature.update(video)\n",
    "merged_feature.update(audio)\n",
    "merged_feature.update(nlp)\n",
    "\n",
    "# drop unnecessary columns\n",
    "merged_feature.pop('description')\n",
    "merged_feature.pop('transcription')\n",
    "merged_feature.pop('title')\n",
    "\n",
    "pprint.pprint(merged_feature)"
   ]
  },
  {
   "cell_type": "code",
   "execution_count": 67,
   "metadata": {},
   "outputs": [
    {
     "data": {
      "text/plain": [
       "32"
      ]
     },
     "execution_count": 67,
     "metadata": {},
     "output_type": "execute_result"
    }
   ],
   "source": [
    "len(merged_feature)"
   ]
  },
  {
   "cell_type": "code",
   "execution_count": 15,
   "metadata": {},
   "outputs": [],
   "source": [
    "!conda list -e > requirements.txt"
   ]
  }
 ],
 "metadata": {
  "kernelspec": {
   "display_name": "ytbenv",
   "language": "python",
   "name": "python3"
  },
  "language_info": {
   "codemirror_mode": {
    "name": "ipython",
    "version": 3
   },
   "file_extension": ".py",
   "mimetype": "text/x-python",
   "name": "python",
   "nbconvert_exporter": "python",
   "pygments_lexer": "ipython3",
   "version": "3.10.9"
  },
  "orig_nbformat": 4,
  "vscode": {
   "interpreter": {
    "hash": "80777cd759fb8cfcc5f5e0e6b700a3805663f57bac696880159140919b8c3054"
   }
  }
 },
 "nbformat": 4,
 "nbformat_minor": 2
}
