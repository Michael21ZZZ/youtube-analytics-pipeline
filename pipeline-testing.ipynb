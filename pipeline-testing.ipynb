{
 "cells": [
  {
   "cell_type": "code",
   "execution_count": 1,
   "metadata": {},
   "outputs": [],
   "source": [
    "## fix auto reloading\n",
    "import pandas\n",
    "import os\n",
    "import sys\n",
    "from dotenv import load_dotenv\n",
    "import json\n",
    "import pandas as pd\n",
    "load_dotenv()\n",
    "from video_selection.google_trends import get_trends\n",
    "from video_selection.search_by_keyword import write_keyword_and_id\n",
    "from video_selection.filter import filter_sample_videos"
   ]
  },
  {
   "cell_type": "code",
   "execution_count": 3,
   "metadata": {},
   "outputs": [],
   "source": [
    "# pipeline setup\n",
    "keyword_path = './input/input_keyword_list.csv' # Modified for different disease, Input the keyword list\n",
    "keyword_ref = 'sleep apnea causes' # use the first keyword for comparison in each iteration. \n",
    "num_of_result = 100"
   ]
  },
  {
   "cell_type": "code",
   "execution_count": 4,
   "metadata": {},
   "outputs": [
    {
     "name": "stdout",
     "output_type": "stream",
     "text": [
      "['Pain', 'anxiety', 'Sleeping', 'night', 'sore throat', 'coughing', 'Stress', 'weight gain', 'dry mouth', 'acid reflux']\n"
     ]
    },
    {
     "name": "stderr",
     "output_type": "stream",
     "text": [
      "/Users/ZHANGRY/Codes/youtube-analytics-pipeline/video_selection/google_trends.py:109: FutureWarning: The default value of numeric_only in DataFrame.mean is deprecated. In a future version, it will default to False. In addition, specifying 'numeric_only=None' is deprecated. Select only valid columns or specify the value of numeric_only to silence this warning.\n",
      "  avg_popularity = normalised.mean().sort_values(ascending = False).head(num_result)\n"
     ]
    }
   ],
   "source": [
    "# test for google trends\n",
    "keyword_list = get_trends(keyword_path, keyword_ref, num_of_result)\n",
    "print(keyword_list[:10])"
   ]
  },
  {
   "cell_type": "code",
   "execution_count": null,
   "metadata": {},
   "outputs": [],
   "source": [
    "# test search for keyword\n",
    "df_keyword = write_keyword_and_id(keyword_list, 5)\n",
    "df_keyword.head(5)"
   ]
  },
  {
   "cell_type": "code",
   "execution_count": 23,
   "metadata": {},
   "outputs": [
    {
     "data": {
      "text/html": [
       "<div>\n",
       "<style scoped>\n",
       "    .dataframe tbody tr th:only-of-type {\n",
       "        vertical-align: middle;\n",
       "    }\n",
       "\n",
       "    .dataframe tbody tr th {\n",
       "        vertical-align: top;\n",
       "    }\n",
       "\n",
       "    .dataframe thead th {\n",
       "        text-align: right;\n",
       "    }\n",
       "</style>\n",
       "<table border=\"1\" class=\"dataframe\">\n",
       "  <thead>\n",
       "    <tr style=\"text-align: right;\">\n",
       "      <th></th>\n",
       "      <th>keyword</th>\n",
       "      <th>id</th>\n",
       "      <th>rank</th>\n",
       "      <th>toKeep</th>\n",
       "    </tr>\n",
       "  </thead>\n",
       "  <tbody>\n",
       "    <tr>\n",
       "      <th>304</th>\n",
       "      <td>excessive yawning</td>\n",
       "      <td>-MjaUhSOf94</td>\n",
       "      <td>5</td>\n",
       "      <td>False</td>\n",
       "    </tr>\n",
       "    <tr>\n",
       "      <th>367</th>\n",
       "      <td>difficulty falling asleep</td>\n",
       "      <td>PmM1IH-LaVQ</td>\n",
       "      <td>3</td>\n",
       "      <td>False</td>\n",
       "    </tr>\n",
       "    <tr>\n",
       "      <th>394</th>\n",
       "      <td>Obstructive Syndrome</td>\n",
       "      <td>krxcVBgerHM</td>\n",
       "      <td>5</td>\n",
       "      <td>False</td>\n",
       "    </tr>\n",
       "    <tr>\n",
       "      <th>480</th>\n",
       "      <td>pain in front center of brain</td>\n",
       "      <td>FSPzEzNBtMg</td>\n",
       "      <td>1</td>\n",
       "      <td>False</td>\n",
       "    </tr>\n",
       "    <tr>\n",
       "      <th>481</th>\n",
       "      <td>pain in front center of brain</td>\n",
       "      <td>HvVa7vUSRIo</td>\n",
       "      <td>2</td>\n",
       "      <td>False</td>\n",
       "    </tr>\n",
       "    <tr>\n",
       "      <th>482</th>\n",
       "      <td>pain in front center of brain</td>\n",
       "      <td>1JrdO-1Wf8g</td>\n",
       "      <td>3</td>\n",
       "      <td>False</td>\n",
       "    </tr>\n",
       "    <tr>\n",
       "      <th>483</th>\n",
       "      <td>pain in front center of brain</td>\n",
       "      <td>TYhgbE_84MA</td>\n",
       "      <td>4</td>\n",
       "      <td>False</td>\n",
       "    </tr>\n",
       "    <tr>\n",
       "      <th>484</th>\n",
       "      <td>pain in front center of brain</td>\n",
       "      <td>vPje60GgHXc</td>\n",
       "      <td>5</td>\n",
       "      <td>False</td>\n",
       "    </tr>\n",
       "  </tbody>\n",
       "</table>\n",
       "</div>"
      ],
      "text/plain": [
       "                           keyword           id  rank  toKeep\n",
       "304              excessive yawning  -MjaUhSOf94     5   False\n",
       "367      difficulty falling asleep  PmM1IH-LaVQ     3   False\n",
       "394           Obstructive Syndrome  krxcVBgerHM     5   False\n",
       "480  pain in front center of brain  FSPzEzNBtMg     1   False\n",
       "481  pain in front center of brain  HvVa7vUSRIo     2   False\n",
       "482  pain in front center of brain  1JrdO-1Wf8g     3   False\n",
       "483  pain in front center of brain  TYhgbE_84MA     4   False\n",
       "484  pain in front center of brain  vPje60GgHXc     5   False"
      ]
     },
     "execution_count": 23,
     "metadata": {},
     "output_type": "execute_result"
    }
   ],
   "source": [
    "df_keyword"
   ]
  },
  {
   "cell_type": "code",
   "execution_count": null,
   "metadata": {},
   "outputs": [],
   "source": [
    "# test filter and sample\n",
    "credential_path = \"oauth_credential.json\"\n",
    "# just for test\n",
    "df_keyword = pd.read_csv('./temp/videoID_list.csv')\n",
    "sampled_videos = filter_sample_videos(df_keyword, credential_path)\n",
    "sampled_videos.head(10)"
   ]
  },
  {
   "cell_type": "code",
   "execution_count": 6,
   "metadata": {},
   "outputs": [
    {
     "data": {
      "text/plain": [
       "'{\"installed\":{\"client_id\":\"45152107222-al8csdiq5n470pknclhuv4a57gjr6h6r.apps.googleusercontent.com\",\"project_id\":\"geometric-rock-358702\",\"auth_uri\":\"https://accounts.google.com/o/oauth2/auth\",\"token_uri\":\"https://oauth2.googleapis.com/token\",\"auth_provider_x509_cert_url\":\"https://www.googleapis.com/oauth2/v1/certs\",\"client_secret\":\"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\",\"redirect_uris\":[\"http://localhost\"]}}'"
      ]
     },
     "execution_count": 6,
     "metadata": {},
     "output_type": "execute_result"
    }
   ],
   "source": [
    "# Final Concatnaton\n",
    "os.getenv('OAUTH_CREDENTIAL')"
   ]
  }
 ],
 "metadata": {
  "kernelspec": {
   "display_name": "ytbenv",
   "language": "python",
   "name": "python3"
  },
  "language_info": {
   "codemirror_mode": {
    "name": "ipython",
    "version": 3
   },
   "file_extension": ".py",
   "mimetype": "text/x-python",
   "name": "python",
   "nbconvert_exporter": "python",
   "pygments_lexer": "ipython3",
   "version": "3.10.9"
  },
  "orig_nbformat": 4,
  "vscode": {
   "interpreter": {
    "hash": "80777cd759fb8cfcc5f5e0e6b700a3805663f57bac696880159140919b8c3054"
   }
  }
 },
 "nbformat": 4,
 "nbformat_minor": 2
}
