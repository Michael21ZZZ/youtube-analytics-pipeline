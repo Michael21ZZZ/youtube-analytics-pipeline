{
  "cells": [
    {
      "cell_type": "markdown",
      "metadata": {
        "colab_type": "text",
        "id": "dCeRTnB7txgw"
      },
      "source": [
        "Install Packages"
      ]
    },
    {
      "cell_type": "code",
      "execution_count": null,
      "metadata": {},
      "outputs": [],
      "source": [
        "!pip install scispacy spacy \n",
        "!pip install https://s3-us-west-2.amazonaws.com/ai2-s2-scispacy/releases/v0.2.5/en_core_sci_sm-0.2.5.tar.gz"
      ]
    },
    {
      "cell_type": "code",
      "execution_count": 1,
      "metadata": {},
      "outputs": [
        {
          "name": "stderr",
          "output_type": "stream",
          "text": [
            "/Users/ZHANGRY/.virtualenvs/youtube_pipeline/lib/python3.8/site-packages/spacy/util.py:885: UserWarning: [W094] Model 'en_core_sci_sm' (0.2.5) specifies an under-constrained spaCy version requirement: >=2.3.0. This can lead to compatibility problems with older versions, or as new spaCy versions are released, because the model may say it's compatible when it's not. Consider changing the \"spacy_version\" in your meta.json to a version range, with a lower and upper pin. For example: >=3.4.4,<3.5.0\n",
            "  warnings.warn(warn_msg)\n"
          ]
        },
        {
          "ename": "OSError",
          "evalue": "[E053] Could not read config file from /Users/ZHANGRY/.virtualenvs/youtube_pipeline/lib/python3.8/site-packages/en_core_sci_sm/en_core_sci_sm-0.2.5/config.cfg",
          "output_type": "error",
          "traceback": [
            "\u001b[0;31m---------------------------------------------------------------------------\u001b[0m",
            "\u001b[0;31mOSError\u001b[0m                                   Traceback (most recent call last)",
            "\u001b[1;32m/Users/ZHANGRY/Codes/youtube-analytics-pipeline/metadata_extraction/scripts/medical_entity_recognition/Medical_NER.ipynb Cell 3\u001b[0m in \u001b[0;36m<cell line: 9>\u001b[0;34m()\u001b[0m\n\u001b[1;32m      <a href='vscode-notebook-cell:/Users/ZHANGRY/Codes/youtube-analytics-pipeline/metadata_extraction/scripts/medical_entity_recognition/Medical_NER.ipynb#W2sZmlsZQ%3D%3D?line=4'>5</a>\u001b[0m \u001b[39mfrom\u001b[39;00m \u001b[39mscispacy\u001b[39;00m\u001b[39m.\u001b[39;00m\u001b[39mabbreviation\u001b[39;00m \u001b[39mimport\u001b[39;00m AbbreviationDetector\n\u001b[1;32m      <a href='vscode-notebook-cell:/Users/ZHANGRY/Codes/youtube-analytics-pipeline/metadata_extraction/scripts/medical_entity_recognition/Medical_NER.ipynb#W2sZmlsZQ%3D%3D?line=5'>6</a>\u001b[0m \u001b[39m# from scispacy.umls_linking import UmlsEntityLinker\u001b[39;00m\n\u001b[1;32m      <a href='vscode-notebook-cell:/Users/ZHANGRY/Codes/youtube-analytics-pipeline/metadata_extraction/scripts/medical_entity_recognition/Medical_NER.ipynb#W2sZmlsZQ%3D%3D?line=6'>7</a>\u001b[0m \n\u001b[1;32m      <a href='vscode-notebook-cell:/Users/ZHANGRY/Codes/youtube-analytics-pipeline/metadata_extraction/scripts/medical_entity_recognition/Medical_NER.ipynb#W2sZmlsZQ%3D%3D?line=7'>8</a>\u001b[0m \u001b[39m#Load the model\u001b[39;00m\n\u001b[0;32m----> <a href='vscode-notebook-cell:/Users/ZHANGRY/Codes/youtube-analytics-pipeline/metadata_extraction/scripts/medical_entity_recognition/Medical_NER.ipynb#W2sZmlsZQ%3D%3D?line=8'>9</a>\u001b[0m nlp \u001b[39m=\u001b[39m en_core_sci_sm\u001b[39m.\u001b[39;49mload()\n",
            "File \u001b[0;32m~/.virtualenvs/youtube_pipeline/lib/python3.8/site-packages/en_core_sci_sm/__init__.py:10\u001b[0m, in \u001b[0;36mload\u001b[0;34m(**overrides)\u001b[0m\n\u001b[1;32m      9\u001b[0m \u001b[39mdef\u001b[39;00m \u001b[39mload\u001b[39m(\u001b[39m*\u001b[39m\u001b[39m*\u001b[39moverrides):\n\u001b[0;32m---> 10\u001b[0m     nlp \u001b[39m=\u001b[39m load_model_from_init_py(\u001b[39m__file__\u001b[39;49m, \u001b[39m*\u001b[39;49m\u001b[39m*\u001b[39;49moverrides)\n\u001b[1;32m     11\u001b[0m     \u001b[39mreturn\u001b[39;00m nlp\n",
            "File \u001b[0;32m~/.virtualenvs/youtube_pipeline/lib/python3.8/site-packages/spacy/util.py:649\u001b[0m, in \u001b[0;36mload_model_from_init_py\u001b[0;34m(init_file, vocab, disable, enable, exclude, config)\u001b[0m\n\u001b[1;32m    647\u001b[0m \u001b[39mif\u001b[39;00m \u001b[39mnot\u001b[39;00m model_path\u001b[39m.\u001b[39mexists():\n\u001b[1;32m    648\u001b[0m     \u001b[39mraise\u001b[39;00m \u001b[39mIOError\u001b[39;00m(Errors\u001b[39m.\u001b[39mE052\u001b[39m.\u001b[39mformat(path\u001b[39m=\u001b[39mdata_path))\n\u001b[0;32m--> 649\u001b[0m \u001b[39mreturn\u001b[39;00m load_model_from_path(\n\u001b[1;32m    650\u001b[0m     data_path,\n\u001b[1;32m    651\u001b[0m     vocab\u001b[39m=\u001b[39;49mvocab,\n\u001b[1;32m    652\u001b[0m     meta\u001b[39m=\u001b[39;49mmeta,\n\u001b[1;32m    653\u001b[0m     disable\u001b[39m=\u001b[39;49mdisable,\n\u001b[1;32m    654\u001b[0m     enable\u001b[39m=\u001b[39;49menable,\n\u001b[1;32m    655\u001b[0m     exclude\u001b[39m=\u001b[39;49mexclude,\n\u001b[1;32m    656\u001b[0m     config\u001b[39m=\u001b[39;49mconfig,\n\u001b[1;32m    657\u001b[0m )\n",
            "File \u001b[0;32m~/.virtualenvs/youtube_pipeline/lib/python3.8/site-packages/spacy/util.py:505\u001b[0m, in \u001b[0;36mload_model_from_path\u001b[0;34m(model_path, meta, vocab, disable, enable, exclude, config)\u001b[0m\n\u001b[1;32m    503\u001b[0m config_path \u001b[39m=\u001b[39m model_path \u001b[39m/\u001b[39m \u001b[39m\"\u001b[39m\u001b[39mconfig.cfg\u001b[39m\u001b[39m\"\u001b[39m\n\u001b[1;32m    504\u001b[0m overrides \u001b[39m=\u001b[39m dict_to_dot(config)\n\u001b[0;32m--> 505\u001b[0m config \u001b[39m=\u001b[39m load_config(config_path, overrides\u001b[39m=\u001b[39;49moverrides)\n\u001b[1;32m    506\u001b[0m nlp \u001b[39m=\u001b[39m load_model_from_config(\n\u001b[1;32m    507\u001b[0m     config,\n\u001b[1;32m    508\u001b[0m     vocab\u001b[39m=\u001b[39mvocab,\n\u001b[0;32m   (...)\u001b[0m\n\u001b[1;32m    512\u001b[0m     meta\u001b[39m=\u001b[39mmeta,\n\u001b[1;32m    513\u001b[0m )\n\u001b[1;32m    514\u001b[0m \u001b[39mreturn\u001b[39;00m nlp\u001b[39m.\u001b[39mfrom_disk(model_path, exclude\u001b[39m=\u001b[39mexclude, overrides\u001b[39m=\u001b[39moverrides)\n",
            "File \u001b[0;32m~/.virtualenvs/youtube_pipeline/lib/python3.8/site-packages/spacy/util.py:681\u001b[0m, in \u001b[0;36mload_config\u001b[0;34m(path, overrides, interpolate)\u001b[0m\n\u001b[1;32m    679\u001b[0m \u001b[39melse\u001b[39;00m:\n\u001b[1;32m    680\u001b[0m     \u001b[39mif\u001b[39;00m \u001b[39mnot\u001b[39;00m config_path \u001b[39mor\u001b[39;00m \u001b[39mnot\u001b[39;00m config_path\u001b[39m.\u001b[39mis_file():\n\u001b[0;32m--> 681\u001b[0m         \u001b[39mraise\u001b[39;00m \u001b[39mIOError\u001b[39;00m(Errors\u001b[39m.\u001b[39mE053\u001b[39m.\u001b[39mformat(path\u001b[39m=\u001b[39mconfig_path, name\u001b[39m=\u001b[39m\u001b[39m\"\u001b[39m\u001b[39mconfig file\u001b[39m\u001b[39m\"\u001b[39m))\n\u001b[1;32m    682\u001b[0m     \u001b[39mreturn\u001b[39;00m config\u001b[39m.\u001b[39mfrom_disk(\n\u001b[1;32m    683\u001b[0m         config_path, overrides\u001b[39m=\u001b[39moverrides, interpolate\u001b[39m=\u001b[39minterpolate\n\u001b[1;32m    684\u001b[0m     )\n",
            "\u001b[0;31mOSError\u001b[0m: [E053] Could not read config file from /Users/ZHANGRY/.virtualenvs/youtube_pipeline/lib/python3.8/site-packages/en_core_sci_sm/en_core_sci_sm-0.2.5/config.cfg"
          ]
        }
      ],
      "source": [
        "import scispacy\n",
        "import spacy\n",
        "import en_core_sci_sm\n",
        "from spacy import displacy\n",
        "from scispacy.abbreviation import AbbreviationDetector\n",
        "# from scispacy.umls_linking import UmlsEntityLinker\n",
        "\n",
        "#Load the model\n",
        "nlp = en_core_sci_sm.load()\n",
        "# nlp = spacy.load(\"en\")"
      ]
    },
    {
      "cell_type": "code",
      "execution_count": 3,
      "metadata": {},
      "outputs": [
        {
          "name": "stdout",
          "output_type": "stream",
          "text": [
            "Found existing installation: nmslib 2.1.1\n",
            "Uninstalling nmslib-2.1.1:\n",
            "  Successfully uninstalled nmslib-2.1.1\n",
            "Collecting nmslib\n",
            "  Using cached nmslib-2.1.1-cp38-cp38-macosx_10_15_x86_64.whl (935 kB)\n",
            "Requirement already satisfied: numpy>=1.10.0 in /Users/ZHANGRY/.virtualenvs/youtube_pipeline/lib/python3.8/site-packages (from nmslib) (1.24.1)\n",
            "Requirement already satisfied: psutil in /Users/ZHANGRY/.virtualenvs/youtube_pipeline/lib/python3.8/site-packages (from nmslib) (5.9.1)\n",
            "Requirement already satisfied: pybind11<2.6.2 in /Users/ZHANGRY/.virtualenvs/youtube_pipeline/lib/python3.8/site-packages (from nmslib) (2.6.1)\n",
            "Installing collected packages: nmslib\n",
            "Successfully installed nmslib-2.1.1\n"
          ]
        },
        {
          "ename": "",
          "evalue": "",
          "output_type": "error",
          "traceback": [
            "\u001b[1;31mThe Kernel crashed while executing code in the the current cell or a previous cell. Please review the code in the cell(s) to identify a possible cause of the failure. Click <a href='https://aka.ms/vscodeJupyterKernelCrash'>here</a> for more info. View Jupyter <a href='command:jupyter.viewOutput'>log</a> for further details."
          ]
        },
        {
          "ename": "",
          "evalue": "",
          "output_type": "error",
          "traceback": [
            "\u001b[1;31mCanceled future for execute_request message before replies were done"
          ]
        }
      ],
      "source": [
        "!pip uninstall nmslib -y\n",
        "!pip install nmslib\n",
        "import nmslib"
      ]
    },
    {
      "cell_type": "markdown",
      "metadata": {
        "colab_type": "text",
        "id": "hvV_aobPt84o"
      },
      "source": [
        "Pass the input text we need to process"
      ]
    },
    {
      "cell_type": "code",
      "execution_count": 2,
      "metadata": {},
      "outputs": [
        {
          "name": "stdout",
          "output_type": "stream",
          "text": [
            "Collecting pybind11==2.6.1\n",
            "  Using cached pybind11-2.6.1-py2.py3-none-any.whl (188 kB)\n",
            "Installing collected packages: pybind11\n",
            "  Attempting uninstall: pybind11\n",
            "    Found existing installation: pybind11 2.6.2\n",
            "    Uninstalling pybind11-2.6.2:\n",
            "      Successfully uninstalled pybind11-2.6.2\n",
            "Successfully installed pybind11-2.6.1\n"
          ]
        }
      ],
      "source": [
        "!pip install pybind11==2.6.1"
      ]
    },
    {
      "cell_type": "code",
      "execution_count": null,
      "metadata": {
        "colab": {
          "base_uri": "https://localhost:8080/",
          "height": 88
        },
        "colab_type": "code",
        "id": "mLlJVzV5H9HE",
        "outputId": "f8c86bb5-1106-41aa-9d44-bc6212b8b273"
      },
      "outputs": [],
      "source": [
        "# text = \"\"\"\n",
        "# Myeloid derived suppressor cells (MDSC) are immature myeloid cells with immunosuppressive activity. They accumulate in tumor-bearing mice and humans with different types of cancer, including hepatocellular carcinoma (HCC).\n",
        "# \"\"\"\n",
        "\n",
        "text = \"\"\"\n",
        "the voices of acromegaly a 360-degree look at that condition part to managing acromegaly A Day in the Life it's challenging to manage acromegaly patients should work with their Physicians to regularly Monitor and control their g h and igf-1 levels to help reduce the potential Health complications of acromegaly such as heart disease hypertension or diabetes there are also often psychosocial effects associated with this rare and life-threatening condition listen to the following people describe the day-to-day struggles of living with acromegaly the challenges faced and the adjustments they've had to make in order to cope with this condition say this a lot of stress and arranged with the diagnosis of start with another length of time it takes to get the diagnosis and then you faced with possibly surgery maybe rages therapy you know that's very frightening and you know what does that mean going into the surgery I was terrified I thought that I was going to die honestly you know went around and hugged everybody that I knew and said it was nice knowing you had a very good to education he was an engineer like from the best engineering school in Russia but he couldn't do a regular work because he will head over this headaches and and also now I understand that there are psychological symptoms and which don't let him feel like others everyday and that was I think that was the most difficult part for me because after they changed my position to a new Department I I didn't have to I don't have to move around anymore I just do the office work and I'm doing well though so after the surgery you know for five days of feeling you had a key and crummy but some after about a week I felt like a new person I felt like I could see clearer everything I could smell but I felt like I could actually sense different smells better food smell better I just have more energy the problem is that if you don't talk about it if you don't go to the doctor if you don't get treated then just get worse and worse and so I go to my endocrinologist every 6 months to get my blood work checked all of my hormones and a set of plugs work for a number of years after my surgery it was suspected that the chamber was coming back because my hormones was still a little out of one but it has managed to level out and become normal again I do know that it's important one of them a homo level monthly basis because my doctor told me about the complication of a chemically and you know what you can get like a hypertension or diabetes so many different things and I do know that it's important to control my Talking Angela to avoid it was complications so that my quality of life get maintained dealing with acromegaly can be a difficult experience patients should discuss their signs and symptoms with their physician on a monthly basis to ensure their current therapy is meeting their needs please visit acromegaly info.com in the US or about acromegaly.com outside of the US to learn more about the disease and acquire supportive resources and materials\n",
        "\"\"\"\n",
        "doc = nlp(text)\n",
        "\n",
        "\n",
        "#Split the text into sentences.\n",
        "\n",
        "print(list(doc.sents))"
      ]
    },
    {
      "cell_type": "code",
      "execution_count": null,
      "metadata": {
        "colab": {
          "base_uri": "https://localhost:8080/",
          "height": 34
        },
        "colab_type": "code",
        "id": "nFTBraGoIAVG",
        "outputId": "d6097e49-7748-4ff6-98a9-6bed2d1dad22"
      },
      "outputs": [],
      "source": [
        "#Print the Medical or Clinical entities present in the input text\n",
        "print(doc.ents)"
      ]
    },
    {
      "cell_type": "code",
      "execution_count": null,
      "metadata": {
        "colab": {
          "base_uri": "https://localhost:8080/",
          "height": 528
        },
        "colab_type": "code",
        "id": "9NSO-QGFIOJD",
        "outputId": "95c01f17-2600-4c3a-fbcc-b9085d3928e2"
      },
      "outputs": [],
      "source": [
        "# visualise dependency parses\n",
        "displacy.render(next(doc.sents), style='dep', jupyter=True)"
      ]
    },
    {
      "cell_type": "code",
      "execution_count": null,
      "metadata": {
        "colab": {},
        "colab_type": "code",
        "id": "6DBMLtIBIUsX"
      },
      "outputs": [],
      "source": [
        "# Add the abbreviation pipe to the spacy pipeline.\n",
        "abbreviation_pipe = AbbreviationDetector(nlp)\n",
        "nlp.add_pipe(abbreviation_pipe)"
      ]
    },
    {
      "cell_type": "code",
      "execution_count": null,
      "metadata": {
        "colab": {},
        "colab_type": "code",
        "id": "zLgOoO0aI6Ss"
      },
      "outputs": [],
      "source": [
        "doc = nlp(text)"
      ]
    },
    {
      "cell_type": "code",
      "execution_count": null,
      "metadata": {
        "colab": {
          "base_uri": "https://localhost:8080/",
          "height": 68
        },
        "colab_type": "code",
        "id": "u_C-j7P8Izex",
        "outputId": "39f20cac-2e52-47a1-b59b-34d9b51603ed"
      },
      "outputs": [],
      "source": [
        "#Print the Abbreviation and it's definition\n",
        "print(\"Abbreviation\", \"\\t\", \"Definition\")\n",
        "for abrv in doc._.abbreviations:\n",
        "  print(f\"{abrv} \\t ({abrv.start}, {abrv.end}) {abrv._.long_form}\")"
      ]
    },
    {
      "cell_type": "code",
      "execution_count": null,
      "metadata": {
        "colab": {
          "base_uri": "https://localhost:8080/",
          "height": 309
        },
        "colab_type": "code",
        "id": "UOp_gdK4JBMB",
        "outputId": "1b1d0b03-3d15-454f-d831-c0a1625fcf4a"
      },
      "outputs": [],
      "source": [
        "linker = UmlsEntityLinker(resolve_abbreviations=True)\n",
        "nlp.add_pipe(linker)"
      ]
    },
    {
      "cell_type": "code",
      "execution_count": null,
      "metadata": {
        "colab": {},
        "colab_type": "code",
        "id": "oHYfMD9TJtlE"
      },
      "outputs": [],
      "source": [
        "doc = nlp(text)"
      ]
    },
    {
      "cell_type": "code",
      "execution_count": null,
      "metadata": {
        "colab": {
          "base_uri": "https://localhost:8080/",
          "height": 34
        },
        "colab_type": "code",
        "id": "3Uk5sKJ9Jy3Y",
        "outputId": "378fecda-ac07-47ff-9aaf-72fb0dc0b4e1"
      },
      "outputs": [],
      "source": [
        "# Let's look at a random entity!\n",
        "entity = doc.ents[1]\n",
        "\n",
        "print(\"Name: \", entity)"
      ]
    },
    {
      "cell_type": "code",
      "execution_count": null,
      "metadata": {
        "colab": {
          "base_uri": "https://localhost:8080/",
          "height": 292
        },
        "colab_type": "code",
        "id": "03uy8RNuJzok",
        "outputId": "fd4f8565-ee77-48b6-c72d-724c8ba884ee"
      },
      "outputs": [],
      "source": [
        "# Each entity is linked to UMLS with a score\n",
        "# (currently just char-3gram matching).\n",
        "for umls_ent in entity._.umls_ents:\n",
        "    print(linker.umls.cui_to_entity[umls_ent[0]])"
      ]
    },
    {
      "cell_type": "code",
      "execution_count": null,
      "metadata": {
        "colab": {},
        "colab_type": "code",
        "id": "ZK-3ocSRJ27U"
      },
      "outputs": [],
      "source": [
        "doc = nlp(\"Spinal and bulbar muscular atrophy (SBMA) is an \\\n",
        "           inherited motor neuron disease caused by the expansion \\\n",
        "           of a polyglutamine tract within the androgen receptor (AR). \\\n",
        "           SBMA can be caused by this easily.\")"
      ]
    },
    {
      "cell_type": "code",
      "execution_count": null,
      "metadata": {
        "colab": {
          "base_uri": "https://localhost:8080/",
          "height": 1000
        },
        "colab_type": "code",
        "id": "GN0QsevCKj3k",
        "outputId": "bd3b7f2d-2fc1-43af-eda1-5fd06875f033"
      },
      "outputs": [],
      "source": [
        "#Find the entities and it's definition\n",
        "\n",
        "entity = doc.ents\n",
        "# Each entity is linked to UMLS with a score\n",
        "# (currently just char-3gram matching).\n",
        "for i in range(len(entity)):\n",
        "  for umls_ent in entity[i]._.umls_ents:\n",
        "    print(linker.umls.cui_to_entity[umls_ent[0]])"
      ]
    },
    {
      "cell_type": "code",
      "execution_count": null,
      "metadata": {
        "colab": {},
        "colab_type": "code",
        "id": "6CRAbCCiKkYr"
      },
      "outputs": [],
      "source": []
    },
    {
      "cell_type": "code",
      "execution_count": null,
      "metadata": {
        "colab": {
          "base_uri": "https://localhost:8080/",
          "height": 187
        },
        "colab_type": "code",
        "id": "BWgDrQwMYrv2",
        "outputId": "bf593a72-d2cb-45e0-be0c-c2e45e5ee0e9"
      },
      "outputs": [],
      "source": [
        "for ent in doc.ents:\n",
        "    print(ent.text, ent.start_char, ent.end_char, ent.label_)"
      ]
    },
    {
      "cell_type": "code",
      "execution_count": null,
      "metadata": {
        "colab": {
          "base_uri": "https://localhost:8080/",
          "height": 85
        },
        "colab_type": "code",
        "id": "0a14rqdjedkl",
        "outputId": "624db693-9d7e-4630-b984-5517977f03a8"
      },
      "outputs": [],
      "source": [
        "displacy.serve(doc, style=\"ent\")"
      ]
    }
  ],
  "metadata": {
    "colab": {
      "collapsed_sections": [],
      "machine_shape": "hm",
      "name": "Medical NER.ipynb",
      "provenance": [],
      "version": "0.3.2"
    },
    "kernelspec": {
      "display_name": "youtube_pipeline",
      "language": "python",
      "name": "python3"
    },
    "language_info": {
      "codemirror_mode": {
        "name": "ipython",
        "version": 3
      },
      "file_extension": ".py",
      "mimetype": "text/x-python",
      "name": "python",
      "nbconvert_exporter": "python",
      "pygments_lexer": "ipython3",
      "version": "3.8.9"
    },
    "vscode": {
      "interpreter": {
        "hash": "70185ea80665161edac9264433e93241e86c5c66123090751bc2d7eeeac1bd66"
      }
    }
  },
  "nbformat": 4,
  "nbformat_minor": 0
}
