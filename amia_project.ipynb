{
 "cells": [
  {
   "cell_type": "code",
   "execution_count": 15,
   "metadata": {},
   "outputs": [],
   "source": [
    "import pandas\n",
    "import os\n",
    "import json\n",
    "import pprint\n",
    "from feature.feature_concat import feature_extraction\n",
    "from feature.setup import pipeline_setup\n",
    "from dotenv import load_dotenv\n",
    "\n",
    "# Load environment variables from the .env file\n",
    "load_dotenv(\"test.env\", override=True)\n",
    "os.environ[\"GOOGLE_APPLICATION_CREDENTIALS\"] = os.getcwd() + os.environ.get(\"SERVICE_ACCOUNT_PATH\")"
   ]
  },
  {
   "cell_type": "code",
   "execution_count": null,
   "metadata": {},
   "outputs": [],
   "source": [
    "# test 1, 4-5 minutes\n",
    "id = \"elJuUGruxOU\"\n",
    "keyword = \"test\"\n",
    "pipeline_setup(id)\n",
    "df_test = feature_extraction(id, keyword)\n",
    "pprint.pprint(df_test)\n",
    "with open(\"temp/feature/\" + id + \".json\", \"w\") as outfile:\n",
    "    json.dump(df_test, outfile)"
   ]
  },
  {
   "cell_type": "code",
   "execution_count": null,
   "metadata": {},
   "outputs": [],
   "source": [
    "# test 2, 7 mins\n",
    "id = \"nMLRpJDXR-4\"\n",
    "keyword = \"test\"\n",
    "pipeline_setup(id)\n",
    "df_test = feature_extraction(id, keyword)\n",
    "pprint.pprint(df_test)\n",
    "with open(\"temp/feature/\" + id + \".json\", \"w\") as outfile:\n",
    "    json.dump(df_test, outfile)"
   ]
  },
  {
   "cell_type": "code",
   "execution_count": null,
   "metadata": {},
   "outputs": [],
   "source": []
  }
 ],
 "metadata": {
  "kernelspec": {
   "display_name": "ytbenv",
   "language": "python",
   "name": "python3"
  },
  "language_info": {
   "codemirror_mode": {
    "name": "ipython",
    "version": 3
   },
   "file_extension": ".py",
   "mimetype": "text/x-python",
   "name": "python",
   "nbconvert_exporter": "python",
   "pygments_lexer": "ipython3",
   "version": "3.10.9"
  },
  "orig_nbformat": 4,
  "vscode": {
   "interpreter": {
    "hash": "80777cd759fb8cfcc5f5e0e6b700a3805663f57bac696880159140919b8c3054"
   }
  }
 },
 "nbformat": 4,
 "nbformat_minor": 2
}
