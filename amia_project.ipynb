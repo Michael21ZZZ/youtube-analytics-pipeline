{
 "cells": [
  {
   "cell_type": "code",
   "execution_count": 122,
   "metadata": {},
   "outputs": [],
   "source": [
    "import pandas as pd\n",
    "import os\n",
    "import json\n",
    "import pprint\n",
    "from feature.feature_concat import *\n",
    "from feature.setup import *\n",
    "from dotenv import load_dotenv\n",
    "\n",
    "# Load environment variables from the .env file\n",
    "load_dotenv(\"amia.env\", override=True)\n",
    "os.environ[\"GOOGLE_APPLICATION_CREDENTIALS\"] = os.getcwd() + os.environ.get(\"SERVICE_ACCOUNT_PATH\")"
   ]
  },
  {
   "cell_type": "code",
   "execution_count": 123,
   "metadata": {},
   "outputs": [
    {
     "data": {
      "text/plain": [
       "304"
      ]
     },
     "execution_count": 123,
     "metadata": {},
     "output_type": "execute_result"
    }
   ],
   "source": [
    "covid = pd.read_csv(\"input/Yawen-Colonoscopy-Covid Data files/covid-19/complete_covid19_video_classification_set.csv\")\n",
    "covid_list = covid['video id'].values.tolist()\n",
    "len(covid_list)"
   ]
  },
  {
   "cell_type": "code",
   "execution_count": 125,
   "metadata": {},
   "outputs": [],
   "source": [
    "# extract covid dataset\n",
    "def run_pipeline(id):\n",
    "    print(\"\\nRunning pipeline on: \", id)\n",
    "    try:\n",
    "        pipeline_setup(id)\n",
    "        df_test = feature_extraction(id)\n",
    "        with open(\"temp/covid-feature/\" + id + \".json\", \"w\") as outfile:\n",
    "            json.dump(df_test, outfile)\n",
    "        with open('temp/success.txt', 'a') as f:\n",
    "            f.write(id +'\\n') \n",
    "        print(\"SUCCESSFULLY EXTRACT : \", id)   \n",
    "        \n",
    "    except SetupError as e:\n",
    "        print(e.message)\n",
    "        with open('temp/setup_error.txt', 'a') as f:\n",
    "            f.write(id +'\\n')\n",
    "    \n",
    "    except FeatureError as e:\n",
    "        print(e.message)\n",
    "        with open('temp/feature_error.txt', 'a') as f:\n",
    "            f.write(id +'\\n')             "
   ]
  },
  {
   "cell_type": "code",
   "execution_count": 127,
   "metadata": {},
   "outputs": [
    {
     "name": "stdout",
     "output_type": "stream",
     "text": [
      "\n",
      "Running pipelin on:  KYWEZiSAXQA\n",
      "\n",
      "SETTING UP PIPELINE for  KYWEZiSAXQA\n",
      "Downloading: https://www.youtube.com/watch?v=KYWEZiSAXQA\n",
      "Video successfully downloaded!\n",
      "MoviePy - Writing audio in /Users/ZHANGRY/Codes/youtube-analytics-pipeline/temp/covid-audio/KYWEZiSAXQA.wav\n"
     ]
    },
    {
     "name": "stderr",
     "output_type": "stream",
     "text": [
      "                                                                      \r"
     ]
    },
    {
     "name": "stdout",
     "output_type": "stream",
     "text": [
      "MoviePy - Done.\n",
      "\n",
      "STARTING FEATURE EXTRACTION ON:  KYWEZiSAXQA\n",
      "EXTRACTING METADATA & VIDEO & TRANSCRIPTION FEATURES!\n",
      "Processing video for shot change annotations:\n",
      "Finished processing.\n",
      "Processing video for object annotations.\n",
      "Finished processing.\n",
      "\n",
      "Processing video for text detection.\n"
     ]
    }
   ],
   "source": [
    "for i in range(110, 150):\n",
    "    run_pipeline(covid_list[i])"
   ]
  },
  {
   "cell_type": "code",
   "execution_count": null,
   "metadata": {},
   "outputs": [],
   "source": []
  },
  {
   "cell_type": "code",
   "execution_count": null,
   "metadata": {},
   "outputs": [],
   "source": []
  },
  {
   "cell_type": "code",
   "execution_count": null,
   "metadata": {},
   "outputs": [],
   "source": []
  },
  {
   "cell_type": "code",
   "execution_count": null,
   "metadata": {},
   "outputs": [],
   "source": []
  },
  {
   "attachments": {},
   "cell_type": "markdown",
   "metadata": {},
   "source": [
    "first test:\n",
    "- index: 0 - 100, 101 videos\n",
    "- unsuccessful downloaded: "
   ]
  },
  {
   "cell_type": "code",
   "execution_count": 120,
   "metadata": {},
   "outputs": [],
   "source": [
    "for id in dif1:\n",
    "    with open('temp/feature_error.txt', 'a') as f:\n",
    "        f.write(id +'\\n') "
   ]
  },
  {
   "cell_type": "code",
   "execution_count": 102,
   "metadata": {},
   "outputs": [
    {
     "name": "stdout",
     "output_type": "stream",
     "text": [
      "83\n"
     ]
    }
   ],
   "source": [
    "import os\n",
    "\n",
    "folder_path = 'temp/covid-feature'  # Replace with the path to your folder\n",
    "file_names = []\n",
    "\n",
    "# Get all file names in folder and append to list\n",
    "for filename in os.listdir(folder_path):\n",
    "    file_names.append(filename.split(\".\")[0])\n",
    "\n",
    "print(len(file_names))"
   ]
  },
  {
   "cell_type": "code",
   "execution_count": 103,
   "metadata": {},
   "outputs": [
    {
     "data": {
      "text/plain": [
       "94"
      ]
     },
     "execution_count": 103,
     "metadata": {},
     "output_type": "execute_result"
    }
   ],
   "source": [
    "from google.cloud import storage\n",
    "def list_blobs(bucket_name):\n",
    "    \"\"\"Lists all the blobs in the bucket.\"\"\"\n",
    "    # bucket_name = \"your-bucket-name\"\n",
    "    name = []\n",
    "    storage_client = storage.Client()\n",
    "\n",
    "    # Note: Client.list_blobs requires at least package version 1.17.0.\n",
    "    blobs = storage_client.list_blobs(bucket_name)\n",
    "\n",
    "    # Note: The call returns a response only when the iterator is consumed.\n",
    "    for blob in blobs:\n",
    "        # print(blob.name)\n",
    "        name.append(blob.name.split(\".\")[0])\n",
    "    \n",
    "    return name\n",
    "gcp_list = list_blobs(os.environ.get(\"AUDIO_BUCKET_NAME\"))\n",
    "len(gcp_list)\n"
   ]
  },
  {
   "cell_type": "code",
   "execution_count": 110,
   "metadata": {},
   "outputs": [
    {
     "data": {
      "text/plain": [
       "7"
      ]
     },
     "execution_count": 110,
     "metadata": {},
     "output_type": "execute_result"
    }
   ],
   "source": [
    "# those which cannot be downlaoded\n",
    "dif = [item for item in iterate_list if item not in gcp_list]\n",
    "len(dif)"
   ]
  },
  {
   "cell_type": "code",
   "execution_count": 111,
   "metadata": {},
   "outputs": [
    {
     "data": {
      "text/plain": [
       "11"
      ]
     },
     "execution_count": 111,
     "metadata": {},
     "output_type": "execute_result"
    }
   ],
   "source": [
    "# those which cannot be extracted metadata\n",
    "dif1 = [item for item in gcp_list if item not in file_names]\n",
    "len(dif1)"
   ]
  },
  {
   "cell_type": "code",
   "execution_count": 71,
   "metadata": {},
   "outputs": [
    {
     "name": "stdout",
     "output_type": "stream",
     "text": [
      "EXTRACTING METADATA & VIDEO & TRANSCRIPTION FEATURES!\n",
      "extracting the id:  d554SXwdTRA\n",
      "Retrieving accTag for:  https://www.youtube.com/watch?v=d554SXwdTRA\n",
      "error in extracting accTag\n",
      "\n",
      "Processing video for shot change annotations:\n",
      "\n",
      "Finished processing.\n",
      "\n",
      "Processing video for object annotations.\n",
      "\n",
      "Finished processing.\n",
      "\n",
      "\n",
      "Processing video for text detection.\n",
      "EXTRACTING NLP FEATURES!\n",
      "CONCATENATE ALL FEATURES!\n",
      "{'accreditationTag': 0,\n",
      " 'channel_subscribers': '7100',\n",
      " 'desc_act': 1,\n",
      " 'desc_ari': 21.214000000000006,\n",
      " 'desc_mer': 3,\n",
      " 'desc_sen': 1,\n",
      " 'desc_sum': 0,\n",
      " 'desc_trans': 0,\n",
      " 'desc_uni': 24,\n",
      " 'desc_words': 25,\n",
      " 'duration': 136.0,\n",
      " 'hasDescription': 1,\n",
      " 'hasTags': 0,\n",
      " 'id': 'd554SXwdTRA',\n",
      " 'num_of_objects': 35,\n",
      " 'num_of_shots': 3,\n",
      " 'num_of_tags': 0,\n",
      " 'publish_days': 1090,\n",
      " 'tags': '',\n",
      " 'text_confidence': 0.9253388831887064,\n",
      " 'tran_act': 49,\n",
      " 'tran_ari': 0,\n",
      " 'tran_mer': 12,\n",
      " 'tran_sen': 0,\n",
      " 'tran_sum': 0,\n",
      " 'tran_trans': 1,\n",
      " 'tran_uni': 153,\n",
      " 'tran_words': 318,\n",
      " 'transcription confidence': 0.9673328995704651}\n"
     ]
    }
   ],
   "source": [
    "# test 1, 4-5 minutes\n",
    "id = \"d554SXwdTRA\"\n",
    "#keyword = \"test\"\n",
    "#pipeline_setup(id)\n",
    "df_test = feature_extraction(id)\n",
    "pprint.pprint(df_test)\n",
    "with open(\"temp/covid-feature/\" + id + \".json\", \"w\") as outfile:\n",
    "    json.dump(df_test, outfile)"
   ]
  }
 ],
 "metadata": {
  "kernelspec": {
   "display_name": "ytbenv",
   "language": "python",
   "name": "python3"
  },
  "language_info": {
   "codemirror_mode": {
    "name": "ipython",
    "version": 3
   },
   "file_extension": ".py",
   "mimetype": "text/x-python",
   "name": "python",
   "nbconvert_exporter": "python",
   "pygments_lexer": "ipython3",
   "version": "3.10.9"
  },
  "orig_nbformat": 4,
  "vscode": {
   "interpreter": {
    "hash": "80777cd759fb8cfcc5f5e0e6b700a3805663f57bac696880159140919b8c3054"
   }
  }
 },
 "nbformat": 4,
 "nbformat_minor": 2
}
